{
 "cells": [
  {
   "cell_type": "markdown",
   "metadata": {},
   "source": [
    "# Indicadores de Qualidade"
   ]
  },
  {
   "cell_type": "markdown",
   "metadata": {},
   "source": [
    "## 00. Declarando Bibliotecas"
   ]
  },
  {
   "cell_type": "code",
   "execution_count": 57,
   "metadata": {},
   "outputs": [],
   "source": [
    "import pandas as pd \n",
    "import os\n",
    "import datetime\n",
    "import matplotlib.pyplot as plt\n",
    "import controller #Arquivo com o código fonte de todos as funções desenvolvidas pela equipe"
   ]
  },
  {
   "cell_type": "markdown",
   "metadata": {},
   "source": [
    "## 1. Criação de dataframes e adaptação"
   ]
  },
  {
   "cell_type": "markdown",
   "metadata": {},
   "source": [
    "#### 1.1 Criando os dataframes das bases de dados em Excel"
   ]
  },
  {
   "cell_type": "code",
   "execution_count": 2,
   "metadata": {},
   "outputs": [],
   "source": [
    "modalidade = pd.read_excel('../dados/STG_MDL.xlsx')\n",
    "pagamento = pd.read_excel('../dados/STG_PGT.xlsx')\n",
    "movimento = pd.read_excel('../dados/STG_MVT_CRD.xlsx')\n",
    "operacao = pd.read_excel('../dados/STG_OPR_ITT.xlsx')\n",
    "fonte = pd.read_excel('../dados/STG_FNT_ITT.xlsx')"
   ]
  },
  {
   "cell_type": "markdown",
   "metadata": {},
   "source": [
    "#### 1.2 Aplicando padrão de nome de colunas estabelecido pela equipe, apenas para etapa de manipulação"
   ]
  },
  {
   "cell_type": "code",
   "execution_count": 69,
   "metadata": {},
   "outputs": [],
   "source": [
    "modalidade.columns = ['id_mod', 'codigo_mod', 'descri_mod', 'DAT_INC_DBO']\n",
    "pagamento.columns = ['id_pagamento', 'vlr_pago', 'data_vencimento', 'codigo_mod', 'qtd_clientes', 'qtd_pagamento', 'id_fonte', 'tipo_pessoa', 'DAT_RSS_FNT_ITT', 'DAT_INC_DBO']\n",
    "movimento.columns = ['id_movi', 'vlr_saldo', 'vlr_total_fat', 'vlr_min_fat', 'vlr_parcela_fat', 'qtd_clientes', 'qtd_movi', 'tipo_pessoa', 'id_fonte', 'codigo_mod', 'DAT_RSS_FNT_ITT', 'DAT_INC_DBO']\n",
    "operacao.columns = ['id_operacao', 'vlr_contrato', 'qtd_parcelas', 'vlr_pendente', 'qtd_clientes', 'qtd_operacao', 'id_fonte', 'codigo_mod', 'tipo_pessoa', 'DAT_RSS_FNT_ITT', 'DAT_INC_DBO']\n",
    "fonte.columns = ['id_fonte', 'cnpj', 'complemento', 'NOM_COM', 'NOM_RAZ_SCL', 'DAT_INC_DBO']"
   ]
  },
  {
   "cell_type": "markdown",
   "metadata": {},
   "source": [
    "O nome das colunas foi alterado para deixar o código mais legível durante seu desenvolvimento.\n",
    "Abaixo está disponível uma tabela de referência entre o nome original e o utilizado durante o desenvolvimento do projeto."
   ]
  },
  {
   "cell_type": "code",
   "execution_count": 4,
   "metadata": {},
   "outputs": [
    {
     "data": {
      "text/html": [
       "<div>\n",
       "<style scoped>\n",
       "    .dataframe tbody tr th:only-of-type {\n",
       "        vertical-align: middle;\n",
       "    }\n",
       "\n",
       "    .dataframe tbody tr th {\n",
       "        vertical-align: top;\n",
       "    }\n",
       "\n",
       "    .dataframe thead th {\n",
       "        text-align: right;\n",
       "    }\n",
       "</style>\n",
       "<table border=\"1\" class=\"dataframe\">\n",
       "  <thead>\n",
       "    <tr style=\"text-align: right;\">\n",
       "      <th></th>\n",
       "      <th>Nome original</th>\n",
       "      <th>Nome utilizado</th>\n",
       "      <th>Tabela</th>\n",
       "    </tr>\n",
       "  </thead>\n",
       "  <tbody>\n",
       "    <tr>\n",
       "      <th>0</th>\n",
       "      <td>ID_STG_FNT_ITT</td>\n",
       "      <td>id_fonte</td>\n",
       "      <td>fonte</td>\n",
       "    </tr>\n",
       "    <tr>\n",
       "      <th>1</th>\n",
       "      <td>NUM_CNPJ</td>\n",
       "      <td>cnpj</td>\n",
       "      <td>fonte</td>\n",
       "    </tr>\n",
       "    <tr>\n",
       "      <th>2</th>\n",
       "      <td>NUM_CMP_CNPJ</td>\n",
       "      <td>complemento</td>\n",
       "      <td>fonte</td>\n",
       "    </tr>\n",
       "    <tr>\n",
       "      <th>3</th>\n",
       "      <td>ID_STG_MDL</td>\n",
       "      <td>id_mod</td>\n",
       "      <td>modalidade</td>\n",
       "    </tr>\n",
       "    <tr>\n",
       "      <th>4</th>\n",
       "      <td>COD_MDL</td>\n",
       "      <td>codigo_mod</td>\n",
       "      <td>modalidade</td>\n",
       "    </tr>\n",
       "    <tr>\n",
       "      <th>5</th>\n",
       "      <td>DES_MDL</td>\n",
       "      <td>descri_mod</td>\n",
       "      <td>modalidade</td>\n",
       "    </tr>\n",
       "    <tr>\n",
       "      <th>6</th>\n",
       "      <td>ID_STG_MVT_CRD</td>\n",
       "      <td>id_movi</td>\n",
       "      <td>movimentacao</td>\n",
       "    </tr>\n",
       "    <tr>\n",
       "      <th>7</th>\n",
       "      <td>VLR_SDO_UTZ_CRD_RTO</td>\n",
       "      <td>vlr_saldo</td>\n",
       "      <td>movimentacao</td>\n",
       "    </tr>\n",
       "    <tr>\n",
       "      <th>8</th>\n",
       "      <td>VLR_TOT_FAT</td>\n",
       "      <td>vlr_total_fat</td>\n",
       "      <td>movimentacao</td>\n",
       "    </tr>\n",
       "    <tr>\n",
       "      <th>9</th>\n",
       "      <td>VLR_MIM_FAT</td>\n",
       "      <td>vlr_min_fat</td>\n",
       "      <td>movimentacao</td>\n",
       "    </tr>\n",
       "    <tr>\n",
       "      <th>10</th>\n",
       "      <td>VLR_PCL_FAT</td>\n",
       "      <td>vlr_parcela_fat</td>\n",
       "      <td>movimentacao</td>\n",
       "    </tr>\n",
       "    <tr>\n",
       "      <th>11</th>\n",
       "      <td>QTD_CLI_CAD_POS</td>\n",
       "      <td>qtd_clientes</td>\n",
       "      <td>movimentacao</td>\n",
       "    </tr>\n",
       "    <tr>\n",
       "      <th>12</th>\n",
       "      <td>QTD_MVT</td>\n",
       "      <td>qtd_movi</td>\n",
       "      <td>movimentacao</td>\n",
       "    </tr>\n",
       "    <tr>\n",
       "      <th>13</th>\n",
       "      <td>DES_TIP_PSS</td>\n",
       "      <td>tipo_pessoa</td>\n",
       "      <td>movimentacao</td>\n",
       "    </tr>\n",
       "    <tr>\n",
       "      <th>14</th>\n",
       "      <td>ID_FNT_ITT</td>\n",
       "      <td>id_fonte</td>\n",
       "      <td>movimentacao</td>\n",
       "    </tr>\n",
       "    <tr>\n",
       "      <th>15</th>\n",
       "      <td>COD_MDL</td>\n",
       "      <td>codigo_mod</td>\n",
       "      <td>movimentacao</td>\n",
       "    </tr>\n",
       "    <tr>\n",
       "      <th>16</th>\n",
       "      <td>ID_STG_OPR_ITT</td>\n",
       "      <td>id_operacao</td>\n",
       "      <td>operacao</td>\n",
       "    </tr>\n",
       "    <tr>\n",
       "      <th>17</th>\n",
       "      <td>VLR_CTRD_CSC</td>\n",
       "      <td>vlr_contrato</td>\n",
       "      <td>operacao</td>\n",
       "    </tr>\n",
       "    <tr>\n",
       "      <th>18</th>\n",
       "      <td>QTD_PCL</td>\n",
       "      <td>qtd_parcelas</td>\n",
       "      <td>operacao</td>\n",
       "    </tr>\n",
       "    <tr>\n",
       "      <th>19</th>\n",
       "      <td>VLR_SDO_DDR</td>\n",
       "      <td>vlr_pendente</td>\n",
       "      <td>operacao</td>\n",
       "    </tr>\n",
       "    <tr>\n",
       "      <th>20</th>\n",
       "      <td>QTD_CLI_CAD_POS</td>\n",
       "      <td>qtd_clientes</td>\n",
       "      <td>operacao</td>\n",
       "    </tr>\n",
       "    <tr>\n",
       "      <th>21</th>\n",
       "      <td>QTD_OPR</td>\n",
       "      <td>qtd_operacao</td>\n",
       "      <td>operacao</td>\n",
       "    </tr>\n",
       "    <tr>\n",
       "      <th>22</th>\n",
       "      <td>ID_FNT_ITT</td>\n",
       "      <td>id_fonte</td>\n",
       "      <td>operacao</td>\n",
       "    </tr>\n",
       "    <tr>\n",
       "      <th>23</th>\n",
       "      <td>ID_MDL</td>\n",
       "      <td>id_mod</td>\n",
       "      <td>operacao</td>\n",
       "    </tr>\n",
       "    <tr>\n",
       "      <th>24</th>\n",
       "      <td>DES_TIP_PSS</td>\n",
       "      <td>tipo_pessoa</td>\n",
       "      <td>operacao</td>\n",
       "    </tr>\n",
       "    <tr>\n",
       "      <th>25</th>\n",
       "      <td>ID_STG_PGT</td>\n",
       "      <td>id_pagamento</td>\n",
       "      <td>pagamento</td>\n",
       "    </tr>\n",
       "    <tr>\n",
       "      <th>26</th>\n",
       "      <td>VLR_PGT_FAT</td>\n",
       "      <td>vlr_pago</td>\n",
       "      <td>pagamento</td>\n",
       "    </tr>\n",
       "    <tr>\n",
       "      <th>27</th>\n",
       "      <td>DAT_VCT</td>\n",
       "      <td>data_vencimento</td>\n",
       "      <td>pagamento</td>\n",
       "    </tr>\n",
       "    <tr>\n",
       "      <th>28</th>\n",
       "      <td>COD_MDL</td>\n",
       "      <td>codigo_mod</td>\n",
       "      <td>pagamento</td>\n",
       "    </tr>\n",
       "    <tr>\n",
       "      <th>29</th>\n",
       "      <td>QTD_CLI_CAD_POS</td>\n",
       "      <td>qtd_clientes</td>\n",
       "      <td>pagamento</td>\n",
       "    </tr>\n",
       "    <tr>\n",
       "      <th>30</th>\n",
       "      <td>QTD_PGT</td>\n",
       "      <td>qtd_pagamento</td>\n",
       "      <td>pagamento</td>\n",
       "    </tr>\n",
       "    <tr>\n",
       "      <th>31</th>\n",
       "      <td>ID_FNT_ITT</td>\n",
       "      <td>id_fonte</td>\n",
       "      <td>pagamento</td>\n",
       "    </tr>\n",
       "    <tr>\n",
       "      <th>32</th>\n",
       "      <td>DES_TIP_PSS</td>\n",
       "      <td>tipo_pessoa</td>\n",
       "      <td>pagamento</td>\n",
       "    </tr>\n",
       "  </tbody>\n",
       "</table>\n",
       "</div>"
      ],
      "text/plain": [
       "          Nome original   Nome utilizado        Tabela\n",
       "0        ID_STG_FNT_ITT         id_fonte         fonte\n",
       "1              NUM_CNPJ             cnpj         fonte\n",
       "2          NUM_CMP_CNPJ      complemento         fonte\n",
       "3            ID_STG_MDL           id_mod    modalidade\n",
       "4               COD_MDL       codigo_mod    modalidade\n",
       "5               DES_MDL       descri_mod    modalidade\n",
       "6        ID_STG_MVT_CRD          id_movi  movimentacao\n",
       "7   VLR_SDO_UTZ_CRD_RTO        vlr_saldo  movimentacao\n",
       "8           VLR_TOT_FAT    vlr_total_fat  movimentacao\n",
       "9           VLR_MIM_FAT      vlr_min_fat  movimentacao\n",
       "10          VLR_PCL_FAT  vlr_parcela_fat  movimentacao\n",
       "11      QTD_CLI_CAD_POS     qtd_clientes  movimentacao\n",
       "12              QTD_MVT         qtd_movi  movimentacao\n",
       "13          DES_TIP_PSS      tipo_pessoa  movimentacao\n",
       "14           ID_FNT_ITT         id_fonte  movimentacao\n",
       "15              COD_MDL       codigo_mod  movimentacao\n",
       "16       ID_STG_OPR_ITT      id_operacao      operacao\n",
       "17         VLR_CTRD_CSC     vlr_contrato      operacao\n",
       "18              QTD_PCL     qtd_parcelas      operacao\n",
       "19          VLR_SDO_DDR     vlr_pendente      operacao\n",
       "20      QTD_CLI_CAD_POS     qtd_clientes      operacao\n",
       "21              QTD_OPR     qtd_operacao      operacao\n",
       "22           ID_FNT_ITT         id_fonte      operacao\n",
       "23               ID_MDL           id_mod      operacao\n",
       "24          DES_TIP_PSS      tipo_pessoa      operacao\n",
       "25           ID_STG_PGT     id_pagamento     pagamento\n",
       "26          VLR_PGT_FAT         vlr_pago     pagamento\n",
       "27              DAT_VCT  data_vencimento     pagamento\n",
       "28              COD_MDL       codigo_mod     pagamento\n",
       "29      QTD_CLI_CAD_POS     qtd_clientes     pagamento\n",
       "30              QTD_PGT    qtd_pagamento     pagamento\n",
       "31           ID_FNT_ITT         id_fonte     pagamento\n",
       "32          DES_TIP_PSS      tipo_pessoa     pagamento"
      ]
     },
     "execution_count": 4,
     "metadata": {},
     "output_type": "execute_result"
    }
   ],
   "source": [
    "pd.read_csv('../padronização/padrao_colunas.csv', sep = ';')"
   ]
  },
  {
   "cell_type": "markdown",
   "metadata": {},
   "source": [
    "#### 1.3 Criando o atributo .nome para facilitar a exibição das tabelas nas respectivas funções"
   ]
  },
  {
   "cell_type": "code",
   "execution_count": 5,
   "metadata": {},
   "outputs": [],
   "source": [
    "fonte.nome = 'Fonte'\n",
    "movimento.nome = 'Movimentações'\n",
    "operacao.nome = 'Operações'\n",
    "pagamento.nome = 'Pagamento'\n",
    "modalidade.nome = 'Modalidade'"
   ]
  },
  {
   "cell_type": "markdown",
   "metadata": {},
   "source": [
    "## 2. Apresentação da situação atual dos dados"
   ]
  },
  {
   "cell_type": "code",
   "execution_count": 6,
   "metadata": {},
   "outputs": [
    {
     "data": {
      "text/html": [
       "<div>\n",
       "<style scoped>\n",
       "    .dataframe tbody tr th:only-of-type {\n",
       "        vertical-align: middle;\n",
       "    }\n",
       "\n",
       "    .dataframe tbody tr th {\n",
       "        vertical-align: top;\n",
       "    }\n",
       "\n",
       "    .dataframe thead th {\n",
       "        text-align: right;\n",
       "    }\n",
       "</style>\n",
       "<table border=\"1\" class=\"dataframe\">\n",
       "  <thead>\n",
       "    <tr style=\"text-align: right;\">\n",
       "      <th></th>\n",
       "      <th>id_fonte</th>\n",
       "      <th>cnpj</th>\n",
       "      <th>complemento</th>\n",
       "      <th>NOM_COM</th>\n",
       "      <th>NOM_RAZ_SCL</th>\n",
       "      <th>DAT_INC_DBO</th>\n",
       "    </tr>\n",
       "  </thead>\n",
       "  <tbody>\n",
       "    <tr>\n",
       "      <th>0</th>\n",
       "      <td>137</td>\n",
       "      <td>2427884087</td>\n",
       "      <td>2805</td>\n",
       "      <td>NMN</td>\n",
       "      <td>NMN</td>\n",
       "      <td>2019-12-19 13:43:41.914</td>\n",
       "    </tr>\n",
       "    <tr>\n",
       "      <th>1</th>\n",
       "      <td>183</td>\n",
       "      <td>12182674487</td>\n",
       "      <td>2635</td>\n",
       "      <td>NMN</td>\n",
       "      <td>NMN</td>\n",
       "      <td>2019-12-19 13:43:41.914</td>\n",
       "    </tr>\n",
       "    <tr>\n",
       "      <th>2</th>\n",
       "      <td>197</td>\n",
       "      <td>16167328168</td>\n",
       "      <td>1802</td>\n",
       "      <td>NMN</td>\n",
       "      <td>NMN</td>\n",
       "      <td>2019-12-19 13:43:41.914</td>\n",
       "    </tr>\n",
       "    <tr>\n",
       "      <th>3</th>\n",
       "      <td>267</td>\n",
       "      <td>279925978</td>\n",
       "      <td>2329</td>\n",
       "      <td>NMN</td>\n",
       "      <td>NMN</td>\n",
       "      <td>2019-12-19 13:43:41.914</td>\n",
       "    </tr>\n",
       "    <tr>\n",
       "      <th>4</th>\n",
       "      <td>322</td>\n",
       "      <td>20579036860</td>\n",
       "      <td>2397</td>\n",
       "      <td>NMN</td>\n",
       "      <td>NMN</td>\n",
       "      <td>2019-12-19 13:43:41.914</td>\n",
       "    </tr>\n",
       "  </tbody>\n",
       "</table>\n",
       "</div>"
      ],
      "text/plain": [
       "   id_fonte         cnpj  complemento NOM_COM NOM_RAZ_SCL  \\\n",
       "0       137   2427884087         2805     NMN         NMN   \n",
       "1       183  12182674487         2635     NMN         NMN   \n",
       "2       197  16167328168         1802     NMN         NMN   \n",
       "3       267    279925978         2329     NMN         NMN   \n",
       "4       322  20579036860         2397     NMN         NMN   \n",
       "\n",
       "               DAT_INC_DBO  \n",
       "0  2019-12-19 13:43:41.914  \n",
       "1  2019-12-19 13:43:41.914  \n",
       "2  2019-12-19 13:43:41.914  \n",
       "3  2019-12-19 13:43:41.914  \n",
       "4  2019-12-19 13:43:41.914  "
      ]
     },
     "execution_count": 6,
     "metadata": {},
     "output_type": "execute_result"
    }
   ],
   "source": [
    "fonte.head()"
   ]
  },
  {
   "cell_type": "code",
   "execution_count": 7,
   "metadata": {},
   "outputs": [
    {
     "data": {
      "text/html": [
       "<div>\n",
       "<style scoped>\n",
       "    .dataframe tbody tr th:only-of-type {\n",
       "        vertical-align: middle;\n",
       "    }\n",
       "\n",
       "    .dataframe tbody tr th {\n",
       "        vertical-align: top;\n",
       "    }\n",
       "\n",
       "    .dataframe thead th {\n",
       "        text-align: right;\n",
       "    }\n",
       "</style>\n",
       "<table border=\"1\" class=\"dataframe\">\n",
       "  <thead>\n",
       "    <tr style=\"text-align: right;\">\n",
       "      <th></th>\n",
       "      <th>id_mod</th>\n",
       "      <th>codigo_mod</th>\n",
       "      <th>descri_mod</th>\n",
       "      <th>DAT_INC_DBO</th>\n",
       "    </tr>\n",
       "  </thead>\n",
       "  <tbody>\n",
       "    <tr>\n",
       "      <th>0</th>\n",
       "      <td>17</td>\n",
       "      <td>E02</td>\n",
       "      <td>ADIANTAMENTO DEPOSITANTE</td>\n",
       "      <td>2019-12-19 13:37:34.759</td>\n",
       "    </tr>\n",
       "    <tr>\n",
       "      <th>1</th>\n",
       "      <td>13</td>\n",
       "      <td>B99</td>\n",
       "      <td>OUTROS FINANCIAMENTOS</td>\n",
       "      <td>2019-12-19 13:37:34.759</td>\n",
       "    </tr>\n",
       "    <tr>\n",
       "      <th>2</th>\n",
       "      <td>15</td>\n",
       "      <td>D01</td>\n",
       "      <td>CARTAO DE CREDITO</td>\n",
       "      <td>2019-12-19 13:37:34.759</td>\n",
       "    </tr>\n",
       "    <tr>\n",
       "      <th>3</th>\n",
       "      <td>19</td>\n",
       "      <td>G01</td>\n",
       "      <td>TITULOS DESCONTADOS</td>\n",
       "      <td>2019-12-19 13:37:34.759</td>\n",
       "    </tr>\n",
       "    <tr>\n",
       "      <th>4</th>\n",
       "      <td>2</td>\n",
       "      <td>A02</td>\n",
       "      <td>EMPRESTIMO - CAPITAL DE GIRO</td>\n",
       "      <td>2019-12-19 13:37:34.759</td>\n",
       "    </tr>\n",
       "  </tbody>\n",
       "</table>\n",
       "</div>"
      ],
      "text/plain": [
       "   id_mod codigo_mod                    descri_mod              DAT_INC_DBO\n",
       "0      17        E02      ADIANTAMENTO DEPOSITANTE  2019-12-19 13:37:34.759\n",
       "1      13        B99         OUTROS FINANCIAMENTOS  2019-12-19 13:37:34.759\n",
       "2      15        D01             CARTAO DE CREDITO  2019-12-19 13:37:34.759\n",
       "3      19        G01           TITULOS DESCONTADOS  2019-12-19 13:37:34.759\n",
       "4       2        A02  EMPRESTIMO - CAPITAL DE GIRO  2019-12-19 13:37:34.759"
      ]
     },
     "execution_count": 7,
     "metadata": {},
     "output_type": "execute_result"
    }
   ],
   "source": [
    "modalidade.head()"
   ]
  },
  {
   "cell_type": "code",
   "execution_count": 28,
   "metadata": {},
   "outputs": [
    {
     "data": {
      "text/html": [
       "<div>\n",
       "<style scoped>\n",
       "    .dataframe tbody tr th:only-of-type {\n",
       "        vertical-align: middle;\n",
       "    }\n",
       "\n",
       "    .dataframe tbody tr th {\n",
       "        vertical-align: top;\n",
       "    }\n",
       "\n",
       "    .dataframe thead th {\n",
       "        text-align: right;\n",
       "    }\n",
       "</style>\n",
       "<table border=\"1\" class=\"dataframe\">\n",
       "  <thead>\n",
       "    <tr style=\"text-align: right;\">\n",
       "      <th></th>\n",
       "      <th>id_movi</th>\n",
       "      <th>vlr_saldo</th>\n",
       "      <th>vlr_total_fat</th>\n",
       "      <th>vlr_min_fat</th>\n",
       "      <th>vlr_parcela_fat</th>\n",
       "      <th>qtd_clientes</th>\n",
       "      <th>qtd_movi</th>\n",
       "      <th>tipo_pessoa</th>\n",
       "      <th>id_fonte</th>\n",
       "      <th>codigo_mod</th>\n",
       "      <th>DAT_RSS_FNT_ITT</th>\n",
       "      <th>DAT_INC_DBO</th>\n",
       "    </tr>\n",
       "  </thead>\n",
       "  <tbody>\n",
       "    <tr>\n",
       "      <th>0</th>\n",
       "      <td>1</td>\n",
       "      <td>NaN</td>\n",
       "      <td>NaN</td>\n",
       "      <td>NaN</td>\n",
       "      <td>4.595517e+10</td>\n",
       "      <td>37186</td>\n",
       "      <td>677272</td>\n",
       "      <td>F</td>\n",
       "      <td>67</td>\n",
       "      <td>C01</td>\n",
       "      <td>2020-01-16</td>\n",
       "      <td>2020-01-17 17:49:17.524</td>\n",
       "    </tr>\n",
       "    <tr>\n",
       "      <th>1</th>\n",
       "      <td>2</td>\n",
       "      <td>NaN</td>\n",
       "      <td>NaN</td>\n",
       "      <td>NaN</td>\n",
       "      <td>7.387237e+10</td>\n",
       "      <td>307070</td>\n",
       "      <td>2741111</td>\n",
       "      <td>F</td>\n",
       "      <td>67</td>\n",
       "      <td>B99</td>\n",
       "      <td>2020-01-16</td>\n",
       "      <td>2020-01-17 17:49:17.524</td>\n",
       "    </tr>\n",
       "    <tr>\n",
       "      <th>2</th>\n",
       "      <td>3</td>\n",
       "      <td>NaN</td>\n",
       "      <td>NaN</td>\n",
       "      <td>NaN</td>\n",
       "      <td>2.868181e+09</td>\n",
       "      <td>601</td>\n",
       "      <td>1964</td>\n",
       "      <td>F</td>\n",
       "      <td>67</td>\n",
       "      <td>B01</td>\n",
       "      <td>2020-01-16</td>\n",
       "      <td>2020-01-17 17:49:17.524</td>\n",
       "    </tr>\n",
       "    <tr>\n",
       "      <th>3</th>\n",
       "      <td>4</td>\n",
       "      <td>NaN</td>\n",
       "      <td>NaN</td>\n",
       "      <td>NaN</td>\n",
       "      <td>6.111251e+10</td>\n",
       "      <td>18820</td>\n",
       "      <td>244041</td>\n",
       "      <td>F</td>\n",
       "      <td>67</td>\n",
       "      <td>B03</td>\n",
       "      <td>2020-01-16</td>\n",
       "      <td>2020-01-17 17:49:17.524</td>\n",
       "    </tr>\n",
       "    <tr>\n",
       "      <th>4</th>\n",
       "      <td>5</td>\n",
       "      <td>NaN</td>\n",
       "      <td>NaN</td>\n",
       "      <td>NaN</td>\n",
       "      <td>2.152609e+06</td>\n",
       "      <td>2</td>\n",
       "      <td>4</td>\n",
       "      <td>F</td>\n",
       "      <td>67</td>\n",
       "      <td>F01</td>\n",
       "      <td>2020-01-16</td>\n",
       "      <td>2020-01-17 17:49:17.524</td>\n",
       "    </tr>\n",
       "  </tbody>\n",
       "</table>\n",
       "</div>"
      ],
      "text/plain": [
       "   id_movi  vlr_saldo  vlr_total_fat  vlr_min_fat  vlr_parcela_fat  \\\n",
       "0        1        NaN            NaN          NaN     4.595517e+10   \n",
       "1        2        NaN            NaN          NaN     7.387237e+10   \n",
       "2        3        NaN            NaN          NaN     2.868181e+09   \n",
       "3        4        NaN            NaN          NaN     6.111251e+10   \n",
       "4        5        NaN            NaN          NaN     2.152609e+06   \n",
       "\n",
       "   qtd_clientes  qtd_movi tipo_pessoa  id_fonte codigo_mod DAT_RSS_FNT_ITT  \\\n",
       "0         37186    677272           F        67        C01      2020-01-16   \n",
       "1        307070   2741111           F        67        B99      2020-01-16   \n",
       "2           601      1964           F        67        B01      2020-01-16   \n",
       "3         18820    244041           F        67        B03      2020-01-16   \n",
       "4             2         4           F        67        F01      2020-01-16   \n",
       "\n",
       "               DAT_INC_DBO  \n",
       "0  2020-01-17 17:49:17.524  \n",
       "1  2020-01-17 17:49:17.524  \n",
       "2  2020-01-17 17:49:17.524  \n",
       "3  2020-01-17 17:49:17.524  \n",
       "4  2020-01-17 17:49:17.524  "
      ]
     },
     "execution_count": 28,
     "metadata": {},
     "output_type": "execute_result"
    }
   ],
   "source": [
    "movimento.head()"
   ]
  },
  {
   "cell_type": "code",
   "execution_count": 9,
   "metadata": {},
   "outputs": [
    {
     "data": {
      "text/html": [
       "<div>\n",
       "<style scoped>\n",
       "    .dataframe tbody tr th:only-of-type {\n",
       "        vertical-align: middle;\n",
       "    }\n",
       "\n",
       "    .dataframe tbody tr th {\n",
       "        vertical-align: top;\n",
       "    }\n",
       "\n",
       "    .dataframe thead th {\n",
       "        text-align: right;\n",
       "    }\n",
       "</style>\n",
       "<table border=\"1\" class=\"dataframe\">\n",
       "  <thead>\n",
       "    <tr style=\"text-align: right;\">\n",
       "      <th></th>\n",
       "      <th>id_operacao</th>\n",
       "      <th>vlr_contrato</th>\n",
       "      <th>qtd_parcelas</th>\n",
       "      <th>vlr_pendente</th>\n",
       "      <th>qtd_clientes</th>\n",
       "      <th>qtd_operacao</th>\n",
       "      <th>id_fonte</th>\n",
       "      <th>id_mod</th>\n",
       "      <th>tipo_pessoa</th>\n",
       "      <th>DAT_RSS_FNT_ITT</th>\n",
       "      <th>DAT_INC_DBO</th>\n",
       "    </tr>\n",
       "  </thead>\n",
       "  <tbody>\n",
       "    <tr>\n",
       "      <th>0</th>\n",
       "      <td>1</td>\n",
       "      <td>NaN</td>\n",
       "      <td>45</td>\n",
       "      <td>NaN</td>\n",
       "      <td>341</td>\n",
       "      <td>358</td>\n",
       "      <td>67</td>\n",
       "      <td>A04</td>\n",
       "      <td>F</td>\n",
       "      <td>2020-01-16</td>\n",
       "      <td>2020-01-27 10:49:48.15</td>\n",
       "    </tr>\n",
       "    <tr>\n",
       "      <th>1</th>\n",
       "      <td>2</td>\n",
       "      <td>NaN</td>\n",
       "      <td>63</td>\n",
       "      <td>NaN</td>\n",
       "      <td>103</td>\n",
       "      <td>108</td>\n",
       "      <td>67</td>\n",
       "      <td>B99</td>\n",
       "      <td>F</td>\n",
       "      <td>2020-01-16</td>\n",
       "      <td>2020-01-27 10:49:48.15</td>\n",
       "    </tr>\n",
       "    <tr>\n",
       "      <th>2</th>\n",
       "      <td>3</td>\n",
       "      <td>NaN</td>\n",
       "      <td>22</td>\n",
       "      <td>NaN</td>\n",
       "      <td>15</td>\n",
       "      <td>16</td>\n",
       "      <td>67</td>\n",
       "      <td>B05</td>\n",
       "      <td>F</td>\n",
       "      <td>2020-01-16</td>\n",
       "      <td>2020-01-27 10:49:48.15</td>\n",
       "    </tr>\n",
       "    <tr>\n",
       "      <th>3</th>\n",
       "      <td>4</td>\n",
       "      <td>NaN</td>\n",
       "      <td>48</td>\n",
       "      <td>NaN</td>\n",
       "      <td>9</td>\n",
       "      <td>9</td>\n",
       "      <td>67</td>\n",
       "      <td>B03</td>\n",
       "      <td>F</td>\n",
       "      <td>2020-01-16</td>\n",
       "      <td>2020-01-27 10:49:48.15</td>\n",
       "    </tr>\n",
       "    <tr>\n",
       "      <th>4</th>\n",
       "      <td>5</td>\n",
       "      <td>NaN</td>\n",
       "      <td>290</td>\n",
       "      <td>NaN</td>\n",
       "      <td>3</td>\n",
       "      <td>3</td>\n",
       "      <td>67</td>\n",
       "      <td>B03</td>\n",
       "      <td>F</td>\n",
       "      <td>2020-01-16</td>\n",
       "      <td>2020-01-27 10:49:48.15</td>\n",
       "    </tr>\n",
       "  </tbody>\n",
       "</table>\n",
       "</div>"
      ],
      "text/plain": [
       "   id_operacao  vlr_contrato  qtd_parcelas  vlr_pendente  qtd_clientes  \\\n",
       "0            1           NaN            45           NaN           341   \n",
       "1            2           NaN            63           NaN           103   \n",
       "2            3           NaN            22           NaN            15   \n",
       "3            4           NaN            48           NaN             9   \n",
       "4            5           NaN           290           NaN             3   \n",
       "\n",
       "   qtd_operacao  id_fonte id_mod tipo_pessoa DAT_RSS_FNT_ITT  \\\n",
       "0           358        67    A04           F      2020-01-16   \n",
       "1           108        67    B99           F      2020-01-16   \n",
       "2            16        67    B05           F      2020-01-16   \n",
       "3             9        67    B03           F      2020-01-16   \n",
       "4             3        67    B03           F      2020-01-16   \n",
       "\n",
       "              DAT_INC_DBO  \n",
       "0  2020-01-27 10:49:48.15  \n",
       "1  2020-01-27 10:49:48.15  \n",
       "2  2020-01-27 10:49:48.15  \n",
       "3  2020-01-27 10:49:48.15  \n",
       "4  2020-01-27 10:49:48.15  "
      ]
     },
     "execution_count": 9,
     "metadata": {},
     "output_type": "execute_result"
    }
   ],
   "source": [
    "operacao.head()"
   ]
  },
  {
   "cell_type": "code",
   "execution_count": 10,
   "metadata": {},
   "outputs": [
    {
     "data": {
      "text/html": [
       "<div>\n",
       "<style scoped>\n",
       "    .dataframe tbody tr th:only-of-type {\n",
       "        vertical-align: middle;\n",
       "    }\n",
       "\n",
       "    .dataframe tbody tr th {\n",
       "        vertical-align: top;\n",
       "    }\n",
       "\n",
       "    .dataframe thead th {\n",
       "        text-align: right;\n",
       "    }\n",
       "</style>\n",
       "<table border=\"1\" class=\"dataframe\">\n",
       "  <thead>\n",
       "    <tr style=\"text-align: right;\">\n",
       "      <th></th>\n",
       "      <th>id_pagamento</th>\n",
       "      <th>vlr_pago</th>\n",
       "      <th>data_vencimento</th>\n",
       "      <th>codigo_mod</th>\n",
       "      <th>qtd_clientes</th>\n",
       "      <th>qtd_pagamento</th>\n",
       "      <th>id_fonte</th>\n",
       "      <th>tipo_pessoa</th>\n",
       "      <th>DAT_RSS_FNT_ITT</th>\n",
       "      <th>DAT_INC_DBO</th>\n",
       "    </tr>\n",
       "  </thead>\n",
       "  <tbody>\n",
       "    <tr>\n",
       "      <th>0</th>\n",
       "      <td>451</td>\n",
       "      <td>515711</td>\n",
       "      <td>16082022</td>\n",
       "      <td>A04</td>\n",
       "      <td>22</td>\n",
       "      <td>22</td>\n",
       "      <td>67</td>\n",
       "      <td>F</td>\n",
       "      <td>2020-01-16</td>\n",
       "      <td>2020-01-17 17:50:42.746</td>\n",
       "    </tr>\n",
       "    <tr>\n",
       "      <th>1</th>\n",
       "      <td>452</td>\n",
       "      <td>60763</td>\n",
       "      <td>26102020</td>\n",
       "      <td>A99</td>\n",
       "      <td>2</td>\n",
       "      <td>2</td>\n",
       "      <td>67</td>\n",
       "      <td>F</td>\n",
       "      <td>2020-01-16</td>\n",
       "      <td>2020-01-17 17:50:42.746</td>\n",
       "    </tr>\n",
       "    <tr>\n",
       "      <th>2</th>\n",
       "      <td>453</td>\n",
       "      <td>8588195</td>\n",
       "      <td>24022019</td>\n",
       "      <td>G01</td>\n",
       "      <td>22</td>\n",
       "      <td>22</td>\n",
       "      <td>67</td>\n",
       "      <td>F</td>\n",
       "      <td>2020-01-16</td>\n",
       "      <td>2020-01-17 17:50:42.746</td>\n",
       "    </tr>\n",
       "    <tr>\n",
       "      <th>3</th>\n",
       "      <td>454</td>\n",
       "      <td>369084</td>\n",
       "      <td>24062018</td>\n",
       "      <td>B99</td>\n",
       "      <td>16</td>\n",
       "      <td>23</td>\n",
       "      <td>67</td>\n",
       "      <td>F</td>\n",
       "      <td>2020-01-16</td>\n",
       "      <td>2020-01-17 17:50:42.746</td>\n",
       "    </tr>\n",
       "    <tr>\n",
       "      <th>4</th>\n",
       "      <td>455</td>\n",
       "      <td>13054</td>\n",
       "      <td>20022021</td>\n",
       "      <td>B99</td>\n",
       "      <td>1</td>\n",
       "      <td>1</td>\n",
       "      <td>67</td>\n",
       "      <td>F</td>\n",
       "      <td>2020-01-16</td>\n",
       "      <td>2020-01-17 17:50:42.746</td>\n",
       "    </tr>\n",
       "  </tbody>\n",
       "</table>\n",
       "</div>"
      ],
      "text/plain": [
       "   id_pagamento  vlr_pago  data_vencimento codigo_mod  qtd_clientes  \\\n",
       "0           451    515711         16082022        A04            22   \n",
       "1           452     60763         26102020        A99             2   \n",
       "2           453   8588195         24022019        G01            22   \n",
       "3           454    369084         24062018        B99            16   \n",
       "4           455     13054         20022021        B99             1   \n",
       "\n",
       "   qtd_pagamento  id_fonte tipo_pessoa DAT_RSS_FNT_ITT  \\\n",
       "0             22        67           F      2020-01-16   \n",
       "1              2        67           F      2020-01-16   \n",
       "2             22        67           F      2020-01-16   \n",
       "3             23        67           F      2020-01-16   \n",
       "4              1        67           F      2020-01-16   \n",
       "\n",
       "               DAT_INC_DBO  \n",
       "0  2020-01-17 17:50:42.746  \n",
       "1  2020-01-17 17:50:42.746  \n",
       "2  2020-01-17 17:50:42.746  \n",
       "3  2020-01-17 17:50:42.746  \n",
       "4  2020-01-17 17:50:42.746  "
      ]
     },
     "execution_count": 10,
     "metadata": {},
     "output_type": "execute_result"
    }
   ],
   "source": [
    "pagamento.head()"
   ]
  },
  {
   "cell_type": "markdown",
   "metadata": {},
   "source": [
    "## 3. Funções para análise e geração dos indicadores"
   ]
  },
  {
   "cell_type": "markdown",
   "metadata": {},
   "source": [
    "Nosso projeto foi dividido em funções para análise e tratamento dos dados. Cada uma das funções definidas e desenvolvidas pela equipe possui uma funcionalidade diferente, que pode ser aplicada para uma ou mais base de dados analisadas. \n",
    "\n",
    "Estas funções podem exibir conclusões sobre a base de dados em estudo, como identificar e contabilizar os campos que não estão preenchidos corretamente, ou realizar alterações na base de dados, formatando os valores para melhor visualização destes. Todos os casos serão explicados abaixo.\n",
    "\n",
    "O capítulo 3, em seus subitens, explicará todas as funções desenvolvidas pela equipe."
   ]
  },
  {
   "cell_type": "markdown",
   "metadata": {},
   "source": [
    "#### 3.1 Primeira função: ocultar todos os campos nulos que não afetam a integridade da base de dados, conforme regras de negócio. (Caso especifico para as tabelas movimento e operação). \n",
    "A tabela de operações exibe diversos itens que não possuem os campos vlr_pendente e vlr_saldo preenchidos. Analisando a base de dados, foi possível observar que estes campos se aplicam apenas à operações da modalidade C01. \n",
    "\n",
    "Portanto, campos nulos em operações de outra modalidade não são um problema de integridade ou completude da base de dados.\n",
    "\n",
    "Ponderando que, na análise abaixo, dividimos a função em dois dataframes para facilitar a análise, sendo um dataframe somente COM a modalidade C01 e outro dataframe SEM a modalidade C01. \n",
    "\n",
    "Separamos o dataframe em duas partes pois para análisar a modalidade C01, precisamos de condições especificas, como a necessidade das colunas \"vlr_contrato\" e \"vlr_pendente\". Os valores nulos nas colunas \"vlr_contrato\" e \"vlr_pendente\" só existem quando não há o atributo da modalidade \"C01\". Os valores nulos que existem não prejudicam a integridade das informações, mas para melhor apresentação em análise, eles foram ocultados. "
   ]
  },
  {
   "cell_type": "markdown",
   "metadata": {},
   "source": [
    "##### 3.1.1 Sem a modalidade \"CO1\" - Tabela 'Operação'"
   ]
  },
  {
   "cell_type": "markdown",
   "metadata": {},
   "source": [
    "Definindo a caracteristica especifica (Dataframe SEM o C01) do dataframe"
   ]
  },
  {
   "cell_type": "code",
   "execution_count": 11,
   "metadata": {},
   "outputs": [],
   "source": [
    "id_sem_C01 = operacao[(operacao['id_mod'] != 'C01')]"
   ]
  },
  {
   "cell_type": "markdown",
   "metadata": {},
   "source": [
    "Criando o dataframe com as caracteristicas especificas e utilizando as colunas necessárias para a análise"
   ]
  },
  {
   "cell_type": "code",
   "execution_count": 29,
   "metadata": {},
   "outputs": [],
   "source": [
    "df_sem_C01 = pd.DataFrame(id_sem_C01, columns = ['id_operacao', 'qtd_parcelas', 'qtd_clientes', 'qtd_operacao', 'id_fonte', 'id_mod', 'tipo_pessoa', 'DAT_RSS_FNT_ITT', 'DAT_INC_DBO'])"
   ]
  },
  {
   "cell_type": "markdown",
   "metadata": {},
   "source": [
    "Aqui podemos ver o primeiro dataframe, com as operações da modalidade C01."
   ]
  },
  {
   "cell_type": "code",
   "execution_count": 34,
   "metadata": {},
   "outputs": [
    {
     "data": {
      "text/html": [
       "<div>\n",
       "<style scoped>\n",
       "    .dataframe tbody tr th:only-of-type {\n",
       "        vertical-align: middle;\n",
       "    }\n",
       "\n",
       "    .dataframe tbody tr th {\n",
       "        vertical-align: top;\n",
       "    }\n",
       "\n",
       "    .dataframe thead th {\n",
       "        text-align: right;\n",
       "    }\n",
       "</style>\n",
       "<table border=\"1\" class=\"dataframe\">\n",
       "  <thead>\n",
       "    <tr style=\"text-align: right;\">\n",
       "      <th></th>\n",
       "      <th>id_operacao</th>\n",
       "      <th>qtd_parcelas</th>\n",
       "      <th>qtd_clientes</th>\n",
       "      <th>qtd_operacao</th>\n",
       "      <th>id_fonte</th>\n",
       "      <th>id_mod</th>\n",
       "      <th>tipo_pessoa</th>\n",
       "      <th>DAT_RSS_FNT_ITT</th>\n",
       "      <th>DAT_INC_DBO</th>\n",
       "    </tr>\n",
       "  </thead>\n",
       "  <tbody>\n",
       "    <tr>\n",
       "      <th>0</th>\n",
       "      <td>1</td>\n",
       "      <td>45</td>\n",
       "      <td>341</td>\n",
       "      <td>358</td>\n",
       "      <td>67</td>\n",
       "      <td>A04</td>\n",
       "      <td>F</td>\n",
       "      <td>2020-01-16</td>\n",
       "      <td>2020-01-27 10:49:48.15</td>\n",
       "    </tr>\n",
       "    <tr>\n",
       "      <th>1</th>\n",
       "      <td>2</td>\n",
       "      <td>63</td>\n",
       "      <td>103</td>\n",
       "      <td>108</td>\n",
       "      <td>67</td>\n",
       "      <td>B99</td>\n",
       "      <td>F</td>\n",
       "      <td>2020-01-16</td>\n",
       "      <td>2020-01-27 10:49:48.15</td>\n",
       "    </tr>\n",
       "    <tr>\n",
       "      <th>2</th>\n",
       "      <td>3</td>\n",
       "      <td>22</td>\n",
       "      <td>15</td>\n",
       "      <td>16</td>\n",
       "      <td>67</td>\n",
       "      <td>B05</td>\n",
       "      <td>F</td>\n",
       "      <td>2020-01-16</td>\n",
       "      <td>2020-01-27 10:49:48.15</td>\n",
       "    </tr>\n",
       "    <tr>\n",
       "      <th>3</th>\n",
       "      <td>4</td>\n",
       "      <td>48</td>\n",
       "      <td>9</td>\n",
       "      <td>9</td>\n",
       "      <td>67</td>\n",
       "      <td>B03</td>\n",
       "      <td>F</td>\n",
       "      <td>2020-01-16</td>\n",
       "      <td>2020-01-27 10:49:48.15</td>\n",
       "    </tr>\n",
       "    <tr>\n",
       "      <th>4</th>\n",
       "      <td>5</td>\n",
       "      <td>290</td>\n",
       "      <td>3</td>\n",
       "      <td>3</td>\n",
       "      <td>67</td>\n",
       "      <td>B03</td>\n",
       "      <td>F</td>\n",
       "      <td>2020-01-16</td>\n",
       "      <td>2020-01-27 10:49:48.15</td>\n",
       "    </tr>\n",
       "  </tbody>\n",
       "</table>\n",
       "</div>"
      ],
      "text/plain": [
       "   id_operacao  qtd_parcelas  qtd_clientes  qtd_operacao  id_fonte id_mod  \\\n",
       "0            1            45           341           358        67    A04   \n",
       "1            2            63           103           108        67    B99   \n",
       "2            3            22            15            16        67    B05   \n",
       "3            4            48             9             9        67    B03   \n",
       "4            5           290             3             3        67    B03   \n",
       "\n",
       "  tipo_pessoa DAT_RSS_FNT_ITT             DAT_INC_DBO  \n",
       "0           F      2020-01-16  2020-01-27 10:49:48.15  \n",
       "1           F      2020-01-16  2020-01-27 10:49:48.15  \n",
       "2           F      2020-01-16  2020-01-27 10:49:48.15  \n",
       "3           F      2020-01-16  2020-01-27 10:49:48.15  \n",
       "4           F      2020-01-16  2020-01-27 10:49:48.15  "
      ]
     },
     "execution_count": 34,
     "metadata": {},
     "output_type": "execute_result"
    }
   ],
   "source": [
    "df_sem_C01.head()"
   ]
  },
  {
   "cell_type": "markdown",
   "metadata": {},
   "source": [
    "E aqui aplicamos um método de contabilização dos valores núlos. Ou seja, nenhum dos valores que deveria estar preenchido se encontra nulo. O que mostra uma completude de 100%."
   ]
  },
  {
   "cell_type": "code",
   "execution_count": 30,
   "metadata": {},
   "outputs": [
    {
     "data": {
      "text/plain": [
       "id_operacao        0\n",
       "qtd_parcelas       0\n",
       "qtd_clientes       0\n",
       "qtd_operacao       0\n",
       "id_fonte           0\n",
       "id_mod             0\n",
       "tipo_pessoa        0\n",
       "DAT_RSS_FNT_ITT    0\n",
       "DAT_INC_DBO        0\n",
       "dtype: int64"
      ]
     },
     "execution_count": 30,
     "metadata": {},
     "output_type": "execute_result"
    }
   ],
   "source": [
    "df_sem_C01.isnull().sum()"
   ]
  },
  {
   "cell_type": "code",
   "execution_count": 14,
   "metadata": {},
   "outputs": [
    {
     "data": {
      "text/html": [
       "<div>\n",
       "<style scoped>\n",
       "    .dataframe tbody tr th:only-of-type {\n",
       "        vertical-align: middle;\n",
       "    }\n",
       "\n",
       "    .dataframe tbody tr th {\n",
       "        vertical-align: top;\n",
       "    }\n",
       "\n",
       "    .dataframe thead th {\n",
       "        text-align: right;\n",
       "    }\n",
       "</style>\n",
       "<table border=\"1\" class=\"dataframe\">\n",
       "  <thead>\n",
       "    <tr style=\"text-align: right;\">\n",
       "      <th></th>\n",
       "      <th>id_mod</th>\n",
       "    </tr>\n",
       "  </thead>\n",
       "  <tbody>\n",
       "    <tr>\n",
       "      <th>B03</th>\n",
       "      <td>214</td>\n",
       "    </tr>\n",
       "    <tr>\n",
       "      <th>A01</th>\n",
       "      <td>122</td>\n",
       "    </tr>\n",
       "    <tr>\n",
       "      <th>A04</th>\n",
       "      <td>112</td>\n",
       "    </tr>\n",
       "    <tr>\n",
       "      <th>B99</th>\n",
       "      <td>104</td>\n",
       "    </tr>\n",
       "    <tr>\n",
       "      <th>B05</th>\n",
       "      <td>71</td>\n",
       "    </tr>\n",
       "    <tr>\n",
       "      <th>A99</th>\n",
       "      <td>35</td>\n",
       "    </tr>\n",
       "    <tr>\n",
       "      <th>A05</th>\n",
       "      <td>20</td>\n",
       "    </tr>\n",
       "    <tr>\n",
       "      <th>B01</th>\n",
       "      <td>19</td>\n",
       "    </tr>\n",
       "    <tr>\n",
       "      <th>B06</th>\n",
       "      <td>4</td>\n",
       "    </tr>\n",
       "    <tr>\n",
       "      <th>B07</th>\n",
       "      <td>2</td>\n",
       "    </tr>\n",
       "    <tr>\n",
       "      <th>F01</th>\n",
       "      <td>1</td>\n",
       "    </tr>\n",
       "    <tr>\n",
       "      <th>G01</th>\n",
       "      <td>1</td>\n",
       "    </tr>\n",
       "  </tbody>\n",
       "</table>\n",
       "</div>"
      ],
      "text/plain": [
       "     id_mod\n",
       "B03     214\n",
       "A01     122\n",
       "A04     112\n",
       "B99     104\n",
       "B05      71\n",
       "A99      35\n",
       "A05      20\n",
       "B01      19\n",
       "B06       4\n",
       "B07       2\n",
       "F01       1\n",
       "G01       1"
      ]
     },
     "execution_count": 14,
     "metadata": {},
     "output_type": "execute_result"
    }
   ],
   "source": [
    "pd.DataFrame(df_sem_C01['id_mod'].value_counts()) #trazendo ID e suas modalidades"
   ]
  },
  {
   "cell_type": "markdown",
   "metadata": {},
   "source": [
    "##### 3.1.2 Com a modalidade \"C01\" - Tabela 'Operação'"
   ]
  },
  {
   "cell_type": "markdown",
   "metadata": {},
   "source": [
    "Definindo as caracteristicas especificas (Dataframe COM o C01) do dataframe"
   ]
  },
  {
   "cell_type": "code",
   "execution_count": 36,
   "metadata": {},
   "outputs": [],
   "source": [
    "id_mod_C01 = operacao[(operacao['id_mod'] == 'C01')]"
   ]
  },
  {
   "cell_type": "markdown",
   "metadata": {},
   "source": [
    "Criando o dataframe com as caracteristicas especificas e com todas as colunas"
   ]
  },
  {
   "cell_type": "code",
   "execution_count": 38,
   "metadata": {},
   "outputs": [
    {
     "data": {
      "text/html": [
       "<div>\n",
       "<style scoped>\n",
       "    .dataframe tbody tr th:only-of-type {\n",
       "        vertical-align: middle;\n",
       "    }\n",
       "\n",
       "    .dataframe tbody tr th {\n",
       "        vertical-align: top;\n",
       "    }\n",
       "\n",
       "    .dataframe thead th {\n",
       "        text-align: right;\n",
       "    }\n",
       "</style>\n",
       "<table border=\"1\" class=\"dataframe\">\n",
       "  <thead>\n",
       "    <tr style=\"text-align: right;\">\n",
       "      <th></th>\n",
       "      <th>id_operacao</th>\n",
       "      <th>vlr_contrato</th>\n",
       "      <th>qtd_parcelas</th>\n",
       "      <th>vlr_pendente</th>\n",
       "      <th>qtd_clientes</th>\n",
       "      <th>qtd_operacao</th>\n",
       "      <th>id_fonte</th>\n",
       "      <th>id_mod</th>\n",
       "      <th>tipo_pessoa</th>\n",
       "      <th>DAT_RSS_FNT_ITT</th>\n",
       "      <th>DAT_INC_DBO</th>\n",
       "    </tr>\n",
       "  </thead>\n",
       "  <tbody>\n",
       "    <tr>\n",
       "      <th>6</th>\n",
       "      <td>7</td>\n",
       "      <td>24231168.0</td>\n",
       "      <td>20</td>\n",
       "      <td>14774641.0</td>\n",
       "      <td>6</td>\n",
       "      <td>7</td>\n",
       "      <td>67</td>\n",
       "      <td>C01</td>\n",
       "      <td>F</td>\n",
       "      <td>2020-01-16</td>\n",
       "      <td>2020-01-27 10:49:48.15</td>\n",
       "    </tr>\n",
       "    <tr>\n",
       "      <th>14</th>\n",
       "      <td>15</td>\n",
       "      <td>83720000.0</td>\n",
       "      <td>158</td>\n",
       "      <td>61146076.0</td>\n",
       "      <td>4</td>\n",
       "      <td>4</td>\n",
       "      <td>67</td>\n",
       "      <td>C01</td>\n",
       "      <td>F</td>\n",
       "      <td>2020-01-16</td>\n",
       "      <td>2020-01-27 10:49:48.15</td>\n",
       "    </tr>\n",
       "    <tr>\n",
       "      <th>18</th>\n",
       "      <td>19</td>\n",
       "      <td>453409414.0</td>\n",
       "      <td>82</td>\n",
       "      <td>345569291.0</td>\n",
       "      <td>86</td>\n",
       "      <td>93</td>\n",
       "      <td>67</td>\n",
       "      <td>C01</td>\n",
       "      <td>F</td>\n",
       "      <td>2020-01-16</td>\n",
       "      <td>2020-01-27 10:49:48.15</td>\n",
       "    </tr>\n",
       "    <tr>\n",
       "      <th>19</th>\n",
       "      <td>20</td>\n",
       "      <td>831887355.0</td>\n",
       "      <td>70</td>\n",
       "      <td>387293236.0</td>\n",
       "      <td>150</td>\n",
       "      <td>171</td>\n",
       "      <td>67</td>\n",
       "      <td>C01</td>\n",
       "      <td>F</td>\n",
       "      <td>2020-01-16</td>\n",
       "      <td>2020-01-27 10:49:48.15</td>\n",
       "    </tr>\n",
       "    <tr>\n",
       "      <th>22</th>\n",
       "      <td>23</td>\n",
       "      <td>168720000.0</td>\n",
       "      <td>117</td>\n",
       "      <td>47151818.0</td>\n",
       "      <td>10</td>\n",
       "      <td>10</td>\n",
       "      <td>67</td>\n",
       "      <td>C01</td>\n",
       "      <td>F</td>\n",
       "      <td>2020-01-16</td>\n",
       "      <td>2020-01-27 10:49:48.15</td>\n",
       "    </tr>\n",
       "  </tbody>\n",
       "</table>\n",
       "</div>"
      ],
      "text/plain": [
       "    id_operacao  vlr_contrato  qtd_parcelas  vlr_pendente  qtd_clientes  \\\n",
       "6             7    24231168.0            20    14774641.0             6   \n",
       "14           15    83720000.0           158    61146076.0             4   \n",
       "18           19   453409414.0            82   345569291.0            86   \n",
       "19           20   831887355.0            70   387293236.0           150   \n",
       "22           23   168720000.0           117    47151818.0            10   \n",
       "\n",
       "    qtd_operacao  id_fonte id_mod tipo_pessoa DAT_RSS_FNT_ITT  \\\n",
       "6              7        67    C01           F      2020-01-16   \n",
       "14             4        67    C01           F      2020-01-16   \n",
       "18            93        67    C01           F      2020-01-16   \n",
       "19           171        67    C01           F      2020-01-16   \n",
       "22            10        67    C01           F      2020-01-16   \n",
       "\n",
       "               DAT_INC_DBO  \n",
       "6   2020-01-27 10:49:48.15  \n",
       "14  2020-01-27 10:49:48.15  \n",
       "18  2020-01-27 10:49:48.15  \n",
       "19  2020-01-27 10:49:48.15  \n",
       "22  2020-01-27 10:49:48.15  "
      ]
     },
     "execution_count": 38,
     "metadata": {},
     "output_type": "execute_result"
    }
   ],
   "source": [
    "df_com_C01 = pd.DataFrame(id_mod_C01)\n",
    "df_com_C01.head()"
   ]
  },
  {
   "cell_type": "markdown",
   "metadata": {},
   "source": [
    "Agora, com o segundo DataFrame derivado da tabela de operações criado, aplicaremos o método de contabilização de valores núlos."
   ]
  },
  {
   "cell_type": "code",
   "execution_count": 17,
   "metadata": {},
   "outputs": [
    {
     "data": {
      "text/plain": [
       "id_operacao        0\n",
       "vlr_contrato       0\n",
       "qtd_parcelas       0\n",
       "vlr_pendente       0\n",
       "qtd_clientes       0\n",
       "qtd_operacao       0\n",
       "id_fonte           0\n",
       "id_mod             0\n",
       "tipo_pessoa        0\n",
       "DAT_RSS_FNT_ITT    0\n",
       "DAT_INC_DBO        0\n",
       "dtype: int64"
      ]
     },
     "execution_count": 17,
     "metadata": {},
     "output_type": "execute_result"
    }
   ],
   "source": [
    "df_com_C01.isnull().sum()"
   ]
  },
  {
   "cell_type": "code",
   "execution_count": 52,
   "metadata": {},
   "outputs": [
    {
     "data": {
      "text/plain": [
       "id_operacao        186\n",
       "vlr_contrato       186\n",
       "qtd_parcelas       186\n",
       "vlr_pendente       186\n",
       "qtd_clientes       186\n",
       "qtd_operacao       186\n",
       "id_fonte           186\n",
       "id_mod             186\n",
       "tipo_pessoa        186\n",
       "DAT_RSS_FNT_ITT    186\n",
       "DAT_INC_DBO        186\n",
       "dtype: int64"
      ]
     },
     "execution_count": 52,
     "metadata": {},
     "output_type": "execute_result"
    }
   ],
   "source": [
    "df_com_C01.count()"
   ]
  },
  {
   "cell_type": "markdown",
   "metadata": {},
   "source": [
    "Ou seja, a completude da tabela de operações está em 100%."
   ]
  },
  {
   "cell_type": "code",
   "execution_count": 65,
   "metadata": {},
   "outputs": [
    {
     "data": {
      "image/png": "[encoded data removed]",
      "text/plain": [
       "<Figure size 432x288 with 1 Axes>"
      ]
     },
     "metadata": {
      "needs_background": "light"
     },
     "output_type": "display_data"
    }
   ],
   "source": [
    "controller.plot_completude(operacao)"
   ]
  },
  {
   "cell_type": "markdown",
   "metadata": {},
   "source": [
    "##### 3.2 Verifica na Tabela fonte se o Nome Comercial e Razão Social são Strings\n"
   ]
  },
  {
   "cell_type": "code",
   "execution_count": 18,
   "metadata": {},
   "outputs": [
    {
     "name": "stdout",
     "output_type": "stream",
     "text": [
      "\n",
      "    Foram identificados 0 dados incoerentes na coluna Nome Comercial\n",
      "    e na coluna Nome Razão Social foram identificados 0 dados incoerentes\n"
     ]
    }
   ],
   "source": [
    "controller.checar_string(fonte)"
   ]
  },
  {
   "cell_type": "markdown",
   "metadata": {},
   "source": [
    "#### 3.2 Validação de CNPJs\n",
    "Nessa função o objetivo é você validar todos os CNPJ's, verificando os numeros de digitos"
   ]
  },
  {
   "cell_type": "code",
   "execution_count": 66,
   "metadata": {},
   "outputs": [
    {
     "data": {
      "text/html": [
       "<div>\n",
       "<style scoped>\n",
       "    .dataframe tbody tr th:only-of-type {\n",
       "        vertical-align: middle;\n",
       "    }\n",
       "\n",
       "    .dataframe tbody tr th {\n",
       "        vertical-align: top;\n",
       "    }\n",
       "\n",
       "    .dataframe thead th {\n",
       "        text-align: right;\n",
       "    }\n",
       "</style>\n",
       "<table border=\"1\" class=\"dataframe\">\n",
       "  <thead>\n",
       "    <tr style=\"text-align: right;\">\n",
       "      <th></th>\n",
       "      <th>id_fonte</th>\n",
       "      <th>cnpj</th>\n",
       "      <th>complemento</th>\n",
       "      <th>NOM_COM</th>\n",
       "      <th>NOM_RAZ_SCL</th>\n",
       "      <th>DAT_INC_DBO</th>\n",
       "    </tr>\n",
       "  </thead>\n",
       "  <tbody>\n",
       "    <tr>\n",
       "      <th>0</th>\n",
       "      <td>137</td>\n",
       "      <td>2427884087</td>\n",
       "      <td>2805</td>\n",
       "      <td>NMN</td>\n",
       "      <td>NMN</td>\n",
       "      <td>2019-12-19 13:43:41.914</td>\n",
       "    </tr>\n",
       "    <tr>\n",
       "      <th>5</th>\n",
       "      <td>336</td>\n",
       "      <td>6574465046</td>\n",
       "      <td>2465</td>\n",
       "      <td>NMN</td>\n",
       "      <td>NMN</td>\n",
       "      <td>2019-12-19 13:43:41.914</td>\n",
       "    </tr>\n",
       "    <tr>\n",
       "      <th>7</th>\n",
       "      <td>356</td>\n",
       "      <td>7422524275</td>\n",
       "      <td>2550</td>\n",
       "      <td>NMN</td>\n",
       "      <td>NMN</td>\n",
       "      <td>2019-12-19 13:43:41.914</td>\n",
       "    </tr>\n",
       "    <tr>\n",
       "      <th>13</th>\n",
       "      <td>481</td>\n",
       "      <td>9804044092</td>\n",
       "      <td>2958</td>\n",
       "      <td>NMN</td>\n",
       "      <td>NMN</td>\n",
       "      <td>2019-12-19 13:43:41.914</td>\n",
       "    </tr>\n",
       "    <tr>\n",
       "      <th>16</th>\n",
       "      <td>505</td>\n",
       "      <td>1178913365</td>\n",
       "      <td>2703</td>\n",
       "      <td>NMN</td>\n",
       "      <td>NMN</td>\n",
       "      <td>2019-12-19 13:43:41.914</td>\n",
       "    </tr>\n",
       "  </tbody>\n",
       "</table>\n",
       "</div>"
      ],
      "text/plain": [
       "    id_fonte        cnpj  complemento NOM_COM NOM_RAZ_SCL  \\\n",
       "0        137  2427884087         2805     NMN         NMN   \n",
       "5        336  6574465046         2465     NMN         NMN   \n",
       "7        356  7422524275         2550     NMN         NMN   \n",
       "13       481  9804044092         2958     NMN         NMN   \n",
       "16       505  1178913365         2703     NMN         NMN   \n",
       "\n",
       "                DAT_INC_DBO  \n",
       "0   2019-12-19 13:43:41.914  \n",
       "5   2019-12-19 13:43:41.914  \n",
       "7   2019-12-19 13:43:41.914  \n",
       "13  2019-12-19 13:43:41.914  \n",
       "16  2019-12-19 13:43:41.914  "
      ]
     },
     "execution_count": 66,
     "metadata": {},
     "output_type": "execute_result"
    }
   ],
   "source": [
    "controller.valida_cnpj()"
   ]
  },
  {
   "cell_type": "markdown",
   "metadata": {},
   "source": [
    "#### 3.3 Validação IDs\n",
    "Nesta função, temos o objetivo de identificar se os ID's possuem continuidade, e indentificar os ID's que estão faltando.\n",
    "\n",
    "Exemplo:\n",
    "(1,2,3,5,7,8,9)\n",
    "\n",
    "Estão faltando os ID's 4 e 6."
   ]
  },
  {
   "cell_type": "code",
   "execution_count": 23,
   "metadata": {},
   "outputs": [
    {
     "name": "stdout",
     "output_type": "stream",
     "text": [
      "Existe um gap de 1.687% na sequência de ID's da tabela Fonte\n",
      "100% dos ID's da tabela Operações são sequenciais, pois não apresentam nenhum gap.\n",
      "100% dos ID's da tabela Modalidade são sequenciais, pois não apresentam nenhum gap.\n",
      "100% dos ID's da tabela Pagamento são sequenciais, pois não apresentam nenhum gap.\n",
      "100% dos ID's da tabela Movimentações são sequenciais, pois não apresentam nenhum gap.\n"
     ]
    }
   ],
   "source": [
    "gap_id(fonte)\n",
    "gap_id(operacao)\n",
    "gap_id(modalidade)\n",
    "gap_id(pagamento)\n",
    "gap_id(movimento)"
   ]
  },
  {
   "cell_type": "markdown",
   "metadata": {},
   "source": [
    "#### 3.4 Validação das modalidades nas tabelas"
   ]
  },
  {
   "cell_type": "markdown",
   "metadata": {},
   "source": [
    "A função executada abaixo valida se os campos da coluna que exibem os códigos de modalidade são válidos. Ou seja, se realmente existem na tabela de modalidades. Esta função é válida para as tabelas de pagamentos, operações e movimentações.\n",
    "\n",
    "A função exibe a porcentagem, assim como retorna um valor tipo float referente à porcentagem de valores faltantes. \n",
    "Caso o usuário deseje utilizar a função apenas para retornar o valor, poderá alterar o statement \"exibir\" para \"False\""
   ]
  },
  {
   "cell_type": "code",
   "execution_count": 76,
   "metadata": {},
   "outputs": [
    {
     "name": "stdout",
     "output_type": "stream",
     "text": [
      "100% dos códigos de modalidade da tabela de Movimentações estão referenciados na tabela de modalidade\n",
      "100% dos códigos de modalidade da tabela de Operações estão referenciados na tabela de modalidade\n",
      "100% dos códigos de modalidade da tabela de Pagamento estão referenciados na tabela de modalidade\n"
     ]
    },
    {
     "data": {
      "text/plain": [
       "0.0"
      ]
     },
     "execution_count": 76,
     "metadata": {},
     "output_type": "execute_result"
    }
   ],
   "source": [
    "controller.valida_modalidade(movimento)\n",
    "controller.valida_modalidade(operacao)\n",
    "controller.valida_modalidade(pagamento)"
   ]
  },
  {
   "cell_type": "markdown",
   "metadata": {},
   "source": [
    "#### 3.5 Formatando data de vencimento"
   ]
  },
  {
   "cell_type": "markdown",
   "metadata": {
    "collapsed": true,
    "jupyter": {
     "outputs_hidden": true
    }
   },
   "source": [
    "Esta função, chamada de \"formata_data_vencimento\", foi criada pois uma das colunas estava com o padrão de data diferente dos demais. \n",
    "Ao chamar a função, ela ajusta o formato da tabela às demais."
   ]
  },
  {
   "cell_type": "code",
   "execution_count": 89,
   "metadata": {},
   "outputs": [
    {
     "name": "stdout",
     "output_type": "stream",
     "text": [
      "As datas da tabela Pagamento foram alteradas com sucesso\n"
     ]
    }
   ],
   "source": [
    "controller.formata_data_vencimento(pagamento)"
   ]
  },
  {
   "cell_type": "code",
   "execution_count": 90,
   "metadata": {},
   "outputs": [
    {
     "data": {
      "text/html": [
       "<div>\n",
       "<style scoped>\n",
       "    .dataframe tbody tr th:only-of-type {\n",
       "        vertical-align: middle;\n",
       "    }\n",
       "\n",
       "    .dataframe tbody tr th {\n",
       "        vertical-align: top;\n",
       "    }\n",
       "\n",
       "    .dataframe thead th {\n",
       "        text-align: right;\n",
       "    }\n",
       "</style>\n",
       "<table border=\"1\" class=\"dataframe\">\n",
       "  <thead>\n",
       "    <tr style=\"text-align: right;\">\n",
       "      <th></th>\n",
       "      <th>id_pagamento</th>\n",
       "      <th>vlr_pago</th>\n",
       "      <th>data_vencimento</th>\n",
       "      <th>codigo_mod</th>\n",
       "      <th>qtd_clientes</th>\n",
       "      <th>qtd_pagamento</th>\n",
       "      <th>id_fonte</th>\n",
       "      <th>tipo_pessoa</th>\n",
       "      <th>DAT_RSS_FNT_ITT</th>\n",
       "      <th>DAT_INC_DBO</th>\n",
       "    </tr>\n",
       "  </thead>\n",
       "  <tbody>\n",
       "    <tr>\n",
       "      <th>0</th>\n",
       "      <td>451</td>\n",
       "      <td>515711</td>\n",
       "      <td>19-01-2020</td>\n",
       "      <td>A04</td>\n",
       "      <td>22</td>\n",
       "      <td>22</td>\n",
       "      <td>67</td>\n",
       "      <td>F</td>\n",
       "      <td>2020-01-16</td>\n",
       "      <td>2020-01-17 17:50:42.746</td>\n",
       "    </tr>\n",
       "    <tr>\n",
       "      <th>1</th>\n",
       "      <td>452</td>\n",
       "      <td>60763</td>\n",
       "      <td>16-06-2017</td>\n",
       "      <td>A99</td>\n",
       "      <td>2</td>\n",
       "      <td>2</td>\n",
       "      <td>67</td>\n",
       "      <td>F</td>\n",
       "      <td>2020-01-16</td>\n",
       "      <td>2020-01-17 17:50:42.746</td>\n",
       "    </tr>\n",
       "    <tr>\n",
       "      <th>2</th>\n",
       "      <td>453</td>\n",
       "      <td>8588195</td>\n",
       "      <td>17-02-2025</td>\n",
       "      <td>G01</td>\n",
       "      <td>22</td>\n",
       "      <td>22</td>\n",
       "      <td>67</td>\n",
       "      <td>F</td>\n",
       "      <td>2020-01-16</td>\n",
       "      <td>2020-01-17 17:50:42.746</td>\n",
       "    </tr>\n",
       "    <tr>\n",
       "      <th>3</th>\n",
       "      <td>454</td>\n",
       "      <td>369084</td>\n",
       "      <td>17-09-2015</td>\n",
       "      <td>B99</td>\n",
       "      <td>16</td>\n",
       "      <td>23</td>\n",
       "      <td>67</td>\n",
       "      <td>F</td>\n",
       "      <td>2020-01-16</td>\n",
       "      <td>2020-01-17 17:50:42.746</td>\n",
       "    </tr>\n",
       "    <tr>\n",
       "      <th>4</th>\n",
       "      <td>455</td>\n",
       "      <td>13054</td>\n",
       "      <td>29-04-2022</td>\n",
       "      <td>B99</td>\n",
       "      <td>1</td>\n",
       "      <td>1</td>\n",
       "      <td>67</td>\n",
       "      <td>F</td>\n",
       "      <td>2020-01-16</td>\n",
       "      <td>2020-01-17 17:50:42.746</td>\n",
       "    </tr>\n",
       "  </tbody>\n",
       "</table>\n",
       "</div>"
      ],
      "text/plain": [
       "   id_pagamento  vlr_pago data_vencimento codigo_mod  qtd_clientes  \\\n",
       "0           451    515711      19-01-2020        A04            22   \n",
       "1           452     60763      16-06-2017        A99             2   \n",
       "2           453   8588195      17-02-2025        G01            22   \n",
       "3           454    369084      17-09-2015        B99            16   \n",
       "4           455     13054      29-04-2022        B99             1   \n",
       "\n",
       "   qtd_pagamento  id_fonte tipo_pessoa DAT_RSS_FNT_ITT  \\\n",
       "0             22        67           F      2020-01-16   \n",
       "1              2        67           F      2020-01-16   \n",
       "2             22        67           F      2020-01-16   \n",
       "3             23        67           F      2020-01-16   \n",
       "4              1        67           F      2020-01-16   \n",
       "\n",
       "               DAT_INC_DBO  \n",
       "0  2020-01-17 17:50:42.746  \n",
       "1  2020-01-17 17:50:42.746  \n",
       "2  2020-01-17 17:50:42.746  \n",
       "3  2020-01-17 17:50:42.746  \n",
       "4  2020-01-17 17:50:42.746  "
      ]
     },
     "execution_count": 90,
     "metadata": {},
     "output_type": "execute_result"
    }
   ],
   "source": [
    "pagamento.head()"
   ]
  },
  {
   "cell_type": "markdown",
   "metadata": {},
   "source": [
    "#### 3.6 Retornando data de criação do arquivo"
   ]
  },
  {
   "cell_type": "markdown",
   "metadata": {},
   "source": [
    "O indicador de \"recência\" solicita verificações sobre a data de criação do arquivo e de sua última alteração.\n",
    "\n",
    "Para realizar isso, utilizamos o módulo \"os\" que nos permite acessar atributos dos arquivos presentes no sistema operacional.\n",
    "A função foi criada desenvolvida aceitando especificamente arquivos .xlsx, que é o formato das bases de dados recebidas.\n",
    "\n",
    "Abaixo temos o exemplo aplicado para o arquivo STG_PGT.xlsx"
   ]
  },
  {
   "cell_type": "code",
   "execution_count": 93,
   "metadata": {},
   "outputs": [
    {
     "name": "stdout",
     "output_type": "stream",
     "text": [
      "Data de criação do arquivo: 14/05/20 - 20h35\n",
      "Data da última modificação do arquivo 14/02/20 - 17h44\n"
     ]
    }
   ],
   "source": [
    "controller.analisa_arquivo('../dados/STG_PGT.xlsx')"
   ]
  },
  {
   "cell_type": "markdown",
   "metadata": {},
   "source": [
    "#### 3.7 Validando se os ID's de fontes são válidos, utilizando como referência a tabela de fontes."
   ]
  },
  {
   "cell_type": "markdown",
   "metadata": {},
   "source": [
    "Esta próxima função valida se nos ID's existentes nas tabelas batem com os ID's informados na tabela de fonte.\n",
    "\n",
    "A função \"valida_idfonte\" tem como argumento apenas o dataframe que deve ser analisado."
   ]
  },
  {
   "cell_type": "code",
   "execution_count": 99,
   "metadata": {},
   "outputs": [
    {
     "name": "stdout",
     "output_type": "stream",
     "text": [
      "100% dos ID's da tabela Movimentações estão referenciados na tabela de fontes\n"
     ]
    }
   ],
   "source": [
    "controller.valida_idfonte(operacao)\n",
    "controller.valida_idfonte(movimento)\n",
    "controller.valida_idfonte(pagamento)\n"
   ]
  }
 ],
 "metadata": {
  "kernelspec": {
   "display_name": "Python 3",
   "language": "python",
   "name": "python3"
  },
  "language_info": {
   "codemirror_mode": {
    "name": "ipython",
    "version": 3
   },
   "file_extension": ".py",
   "mimetype": "text/x-python",
   "name": "python",
   "nbconvert_exporter": "python",
   "pygments_lexer": "ipython3",
   "version": "3.7.1"
  }
 },
 "nbformat": 4,
 "nbformat_minor": 4
}
