{
 "cells": [
  {
   "cell_type": "markdown",
   "metadata": {},
   "source": [
    "# Importando Bibliotecas"
   ]
  },
  {
   "cell_type": "code",
   "execution_count": 1,
   "metadata": {},
   "outputs": [],
   "source": [
    "import pandas as pd"
   ]
  },
  {
   "cell_type": "markdown",
   "metadata": {},
   "source": [
    "# Puxando os Dados Principais"
   ]
  },
  {
   "cell_type": "code",
   "execution_count": 2,
   "metadata": {},
   "outputs": [],
   "source": [
    "modalidade = pd.read_excel('dados/STG_MDL.xlsx')\n",
    "pagamento = pd.read_excel('dados/STG_PGT.xlsx')\n",
    "movimento = pd.read_excel('dados/STG_MVT_CRD.xlsx')\n",
    "operacao = pd.read_excel('dados/STG_OPR_ITT.xlsx')\n",
    "fonte = pd.read_excel('dados/STG_FNT_ITT.xlsx')"
   ]
  },
  {
   "cell_type": "markdown",
   "metadata": {},
   "source": [
    "# Puxando os Dados Complementares"
   ]
  },
  {
   "cell_type": "code",
   "execution_count": 3,
   "metadata": {},
   "outputs": [],
   "source": [
    "pessoa_fisica = pd.read_csv(\"dados/fatec_pessoa_fisica.csv\", sep = '|', encoding='UTF-8', header = 1)\n"
   ]
  },
  {
   "cell_type": "code",
   "execution_count": 4,
   "metadata": {},
   "outputs": [
    {
     "data": {
      "text/html": [
       "<div>\n",
       "<style scoped>\n",
       "    .dataframe tbody tr th:only-of-type {\n",
       "        vertical-align: middle;\n",
       "    }\n",
       "\n",
       "    .dataframe tbody tr th {\n",
       "        vertical-align: top;\n",
       "    }\n",
       "\n",
       "    .dataframe thead th {\n",
       "        text-align: right;\n",
       "    }\n",
       "</style>\n",
       "<table border=\"1\" class=\"dataframe\">\n",
       "  <thead>\n",
       "    <tr style=\"text-align: right;\">\n",
       "      <th></th>\n",
       "      <th>Unnamed: 0</th>\n",
       "      <th>id</th>\n",
       "      <th>cpf</th>\n",
       "      <th>idc_sexo</th>\n",
       "      <th>ano_dat_nascimento</th>\n",
       "      <th>Unnamed: 5</th>\n",
       "    </tr>\n",
       "  </thead>\n",
       "  <tbody>\n",
       "    <tr>\n",
       "      <th>0</th>\n",
       "      <td>+-----------+--------------+----------+-------...</td>\n",
       "      <td>NaN</td>\n",
       "      <td>NaN</td>\n",
       "      <td>NaN</td>\n",
       "      <td>NaN</td>\n",
       "      <td>NaN</td>\n",
       "    </tr>\n",
       "    <tr>\n",
       "      <th>1</th>\n",
       "      <td>NaN</td>\n",
       "      <td>804129883</td>\n",
       "      <td>37311167211</td>\n",
       "      <td>M</td>\n",
       "      <td>2000</td>\n",
       "      <td>NaN</td>\n",
       "    </tr>\n",
       "    <tr>\n",
       "      <th>2</th>\n",
       "      <td>NaN</td>\n",
       "      <td>246036379</td>\n",
       "      <td>34115266395</td>\n",
       "      <td>M</td>\n",
       "      <td>1969</td>\n",
       "      <td>NaN</td>\n",
       "    </tr>\n",
       "    <tr>\n",
       "      <th>3</th>\n",
       "      <td>NaN</td>\n",
       "      <td>218979283</td>\n",
       "      <td>35622655491</td>\n",
       "      <td>M</td>\n",
       "      <td>1970</td>\n",
       "      <td>NaN</td>\n",
       "    </tr>\n",
       "    <tr>\n",
       "      <th>4</th>\n",
       "      <td>NaN</td>\n",
       "      <td>717277229</td>\n",
       "      <td>33222324480</td>\n",
       "      <td>F</td>\n",
       "      <td>1994</td>\n",
       "      <td>NaN</td>\n",
       "    </tr>\n",
       "    <tr>\n",
       "      <th>...</th>\n",
       "      <td>...</td>\n",
       "      <td>...</td>\n",
       "      <td>...</td>\n",
       "      <td>...</td>\n",
       "      <td>...</td>\n",
       "      <td>...</td>\n",
       "    </tr>\n",
       "    <tr>\n",
       "      <th>3005</th>\n",
       "      <td>NaN</td>\n",
       "      <td>271099619</td>\n",
       "      <td>223885940544</td>\n",
       "      <td>F</td>\n",
       "      <td>1962</td>\n",
       "      <td>NaN</td>\n",
       "    </tr>\n",
       "    <tr>\n",
       "      <th>3006</th>\n",
       "      <td>NaN</td>\n",
       "      <td>209547061</td>\n",
       "      <td>265864987976</td>\n",
       "      <td>F</td>\n",
       "      <td>1975</td>\n",
       "      <td>NaN</td>\n",
       "    </tr>\n",
       "    <tr>\n",
       "      <th>3007</th>\n",
       "      <td>NaN</td>\n",
       "      <td>97718872</td>\n",
       "      <td>262208637843</td>\n",
       "      <td>F</td>\n",
       "      <td>1983</td>\n",
       "      <td>NaN</td>\n",
       "    </tr>\n",
       "    <tr>\n",
       "      <th>3008</th>\n",
       "      <td>NaN</td>\n",
       "      <td>66330285</td>\n",
       "      <td>255487112307</td>\n",
       "      <td>F</td>\n",
       "      <td>1983</td>\n",
       "      <td>NaN</td>\n",
       "    </tr>\n",
       "    <tr>\n",
       "      <th>3009</th>\n",
       "      <td>+-----------+--------------+----------+-------...</td>\n",
       "      <td>NaN</td>\n",
       "      <td>NaN</td>\n",
       "      <td>NaN</td>\n",
       "      <td>NaN</td>\n",
       "      <td>NaN</td>\n",
       "    </tr>\n",
       "  </tbody>\n",
       "</table>\n",
       "<p>3010 rows × 6 columns</p>\n",
       "</div>"
      ],
      "text/plain": [
       "                                             Unnamed: 0   id          \\\n",
       "0     +-----------+--------------+----------+-------...          NaN   \n",
       "1                                                   NaN   804129883    \n",
       "2                                                   NaN   246036379    \n",
       "3                                                   NaN   218979283    \n",
       "4                                                   NaN   717277229    \n",
       "...                                                 ...          ...   \n",
       "3005                                                NaN   271099619    \n",
       "3006                                                NaN   209547061    \n",
       "3007                                                NaN   97718872     \n",
       "3008                                                NaN   66330285     \n",
       "3009  +-----------+--------------+----------+-------...          NaN   \n",
       "\n",
       "       cpf             idc_sexo    ano_dat_nascimento   Unnamed: 5  \n",
       "0                NaN         NaN                   NaN         NaN  \n",
       "1      37311167211     M           2000                        NaN  \n",
       "2      34115266395     M           1969                        NaN  \n",
       "3      35622655491     M           1970                        NaN  \n",
       "4      33222324480     F           1994                        NaN  \n",
       "...              ...         ...                   ...         ...  \n",
       "3005   223885940544    F           1962                        NaN  \n",
       "3006   265864987976    F           1975                        NaN  \n",
       "3007   262208637843    F           1983                        NaN  \n",
       "3008   255487112307    F           1983                        NaN  \n",
       "3009             NaN         NaN                   NaN         NaN  \n",
       "\n",
       "[3010 rows x 6 columns]"
      ]
     },
     "execution_count": 4,
     "metadata": {},
     "output_type": "execute_result"
    }
   ],
   "source": [
    "pessoa_fisica"
   ]
  },
  {
   "cell_type": "markdown",
   "metadata": {},
   "source": [
    "## Limpando o DataFrame\n",
    "\n",
    "Abaixo estamos definindo o nome da coluna bugada para ser usada na função a seguinte:"
   ]
  },
  {
   "cell_type": "code",
   "execution_count": 5,
   "metadata": {},
   "outputs": [],
   "source": [
    "# Exemplo de como é a nomeclatura das colunas antes da alteração:\n",
    "\n",
    "pessoa_fisica.columns[1:5]\n",
    "pessoa_fisica_colunas = pessoa_fisica.columns[1:5]"
   ]
  },
  {
   "cell_type": "code",
   "execution_count": 6,
   "metadata": {},
   "outputs": [],
   "source": [
    "# Estamos armazenando um exemplo do nome da coluna, para no código a seguir retirarmos a quebra de página:\n",
    "\n",
    "coluna = pessoa_fisica.columns[1]"
   ]
  },
  {
   "cell_type": "code",
   "execution_count": 7,
   "metadata": {},
   "outputs": [
    {
     "data": {
      "text/plain": [
       "' id        '"
      ]
     },
     "execution_count": 7,
     "metadata": {},
     "output_type": "execute_result"
    }
   ],
   "source": [
    "# Demonstração da váriavel: \n",
    "\n",
    "coluna"
   ]
  },
  {
   "cell_type": "markdown",
   "metadata": {},
   "source": [
    "## Redefinindo as colunas das tabelas"
   ]
  },
  {
   "cell_type": "code",
   "execution_count": 8,
   "metadata": {},
   "outputs": [],
   "source": [
    "pessoa_fisica = pd.DataFrame(pessoa_fisica, columns = pessoa_fisica_colunas)"
   ]
  },
  {
   "cell_type": "code",
   "execution_count": 9,
   "metadata": {},
   "outputs": [
    {
     "data": {
      "text/html": [
       "<div>\n",
       "<style scoped>\n",
       "    .dataframe tbody tr th:only-of-type {\n",
       "        vertical-align: middle;\n",
       "    }\n",
       "\n",
       "    .dataframe tbody tr th {\n",
       "        vertical-align: top;\n",
       "    }\n",
       "\n",
       "    .dataframe thead th {\n",
       "        text-align: right;\n",
       "    }\n",
       "</style>\n",
       "<table border=\"1\" class=\"dataframe\">\n",
       "  <thead>\n",
       "    <tr style=\"text-align: right;\">\n",
       "      <th></th>\n",
       "      <th>id</th>\n",
       "      <th>cpf</th>\n",
       "      <th>idc_sexo</th>\n",
       "      <th>ano_dat_nascimento</th>\n",
       "    </tr>\n",
       "  </thead>\n",
       "  <tbody>\n",
       "    <tr>\n",
       "      <th>0</th>\n",
       "      <td>NaN</td>\n",
       "      <td>NaN</td>\n",
       "      <td>NaN</td>\n",
       "      <td>NaN</td>\n",
       "    </tr>\n",
       "    <tr>\n",
       "      <th>1</th>\n",
       "      <td>804129883</td>\n",
       "      <td>37311167211</td>\n",
       "      <td>M</td>\n",
       "      <td>2000</td>\n",
       "    </tr>\n",
       "    <tr>\n",
       "      <th>2</th>\n",
       "      <td>246036379</td>\n",
       "      <td>34115266395</td>\n",
       "      <td>M</td>\n",
       "      <td>1969</td>\n",
       "    </tr>\n",
       "    <tr>\n",
       "      <th>3</th>\n",
       "      <td>218979283</td>\n",
       "      <td>35622655491</td>\n",
       "      <td>M</td>\n",
       "      <td>1970</td>\n",
       "    </tr>\n",
       "    <tr>\n",
       "      <th>4</th>\n",
       "      <td>717277229</td>\n",
       "      <td>33222324480</td>\n",
       "      <td>F</td>\n",
       "      <td>1994</td>\n",
       "    </tr>\n",
       "    <tr>\n",
       "      <th>...</th>\n",
       "      <td>...</td>\n",
       "      <td>...</td>\n",
       "      <td>...</td>\n",
       "      <td>...</td>\n",
       "    </tr>\n",
       "    <tr>\n",
       "      <th>3005</th>\n",
       "      <td>271099619</td>\n",
       "      <td>223885940544</td>\n",
       "      <td>F</td>\n",
       "      <td>1962</td>\n",
       "    </tr>\n",
       "    <tr>\n",
       "      <th>3006</th>\n",
       "      <td>209547061</td>\n",
       "      <td>265864987976</td>\n",
       "      <td>F</td>\n",
       "      <td>1975</td>\n",
       "    </tr>\n",
       "    <tr>\n",
       "      <th>3007</th>\n",
       "      <td>97718872</td>\n",
       "      <td>262208637843</td>\n",
       "      <td>F</td>\n",
       "      <td>1983</td>\n",
       "    </tr>\n",
       "    <tr>\n",
       "      <th>3008</th>\n",
       "      <td>66330285</td>\n",
       "      <td>255487112307</td>\n",
       "      <td>F</td>\n",
       "      <td>1983</td>\n",
       "    </tr>\n",
       "    <tr>\n",
       "      <th>3009</th>\n",
       "      <td>NaN</td>\n",
       "      <td>NaN</td>\n",
       "      <td>NaN</td>\n",
       "      <td>NaN</td>\n",
       "    </tr>\n",
       "  </tbody>\n",
       "</table>\n",
       "<p>3010 rows × 4 columns</p>\n",
       "</div>"
      ],
      "text/plain": [
       "       id           cpf             idc_sexo    ano_dat_nascimento \n",
       "0             NaN             NaN         NaN                   NaN\n",
       "1      804129883    37311167211     M           2000               \n",
       "2      246036379    34115266395     M           1969               \n",
       "3      218979283    35622655491     M           1970               \n",
       "4      717277229    33222324480     F           1994               \n",
       "...           ...             ...         ...                   ...\n",
       "3005   271099619    223885940544    F           1962               \n",
       "3006   209547061    265864987976    F           1975               \n",
       "3007   97718872     262208637843    F           1983               \n",
       "3008   66330285     255487112307    F           1983               \n",
       "3009          NaN             NaN         NaN                   NaN\n",
       "\n",
       "[3010 rows x 4 columns]"
      ]
     },
     "execution_count": 9,
     "metadata": {},
     "output_type": "execute_result"
    }
   ],
   "source": [
    "pessoa_fisica"
   ]
  },
  {
   "cell_type": "markdown",
   "metadata": {},
   "source": [
    "## Redefinindo os nomes das colunas"
   ]
  },
  {
   "cell_type": "code",
   "execution_count": 10,
   "metadata": {},
   "outputs": [],
   "source": [
    "# Definindo os novos nomes das colunas:\n",
    "pessoa_fisica.columns = ['id', 'cpf', 'idc_sexo', 'ano_dat_nascimento']"
   ]
  },
  {
   "cell_type": "code",
   "execution_count": 11,
   "metadata": {},
   "outputs": [
    {
     "data": {
      "text/plain": [
       "Index(['id', 'cpf', 'idc_sexo', 'ano_dat_nascimento'], dtype='object')"
      ]
     },
     "execution_count": 11,
     "metadata": {},
     "output_type": "execute_result"
    }
   ],
   "source": [
    "# Nomeclatura das colunas depois da alteração:\n",
    "pessoa_fisica.columns"
   ]
  },
  {
   "cell_type": "markdown",
   "metadata": {},
   "source": [
    "## Retirando os valores nulos"
   ]
  },
  {
   "cell_type": "code",
   "execution_count": 12,
   "metadata": {},
   "outputs": [
    {
     "data": {
      "text/html": [
       "<div>\n",
       "<style scoped>\n",
       "    .dataframe tbody tr th:only-of-type {\n",
       "        vertical-align: middle;\n",
       "    }\n",
       "\n",
       "    .dataframe tbody tr th {\n",
       "        vertical-align: top;\n",
       "    }\n",
       "\n",
       "    .dataframe thead th {\n",
       "        text-align: right;\n",
       "    }\n",
       "</style>\n",
       "<table border=\"1\" class=\"dataframe\">\n",
       "  <thead>\n",
       "    <tr style=\"text-align: right;\">\n",
       "      <th></th>\n",
       "      <th>id</th>\n",
       "      <th>cpf</th>\n",
       "      <th>idc_sexo</th>\n",
       "      <th>ano_dat_nascimento</th>\n",
       "    </tr>\n",
       "  </thead>\n",
       "  <tbody>\n",
       "    <tr>\n",
       "      <th>0</th>\n",
       "      <td>NaN</td>\n",
       "      <td>NaN</td>\n",
       "      <td>NaN</td>\n",
       "      <td>NaN</td>\n",
       "    </tr>\n",
       "    <tr>\n",
       "      <th>1</th>\n",
       "      <td>804129883</td>\n",
       "      <td>37311167211</td>\n",
       "      <td>M</td>\n",
       "      <td>2000</td>\n",
       "    </tr>\n",
       "    <tr>\n",
       "      <th>2</th>\n",
       "      <td>246036379</td>\n",
       "      <td>34115266395</td>\n",
       "      <td>M</td>\n",
       "      <td>1969</td>\n",
       "    </tr>\n",
       "    <tr>\n",
       "      <th>3</th>\n",
       "      <td>218979283</td>\n",
       "      <td>35622655491</td>\n",
       "      <td>M</td>\n",
       "      <td>1970</td>\n",
       "    </tr>\n",
       "    <tr>\n",
       "      <th>4</th>\n",
       "      <td>717277229</td>\n",
       "      <td>33222324480</td>\n",
       "      <td>F</td>\n",
       "      <td>1994</td>\n",
       "    </tr>\n",
       "    <tr>\n",
       "      <th>...</th>\n",
       "      <td>...</td>\n",
       "      <td>...</td>\n",
       "      <td>...</td>\n",
       "      <td>...</td>\n",
       "    </tr>\n",
       "    <tr>\n",
       "      <th>3005</th>\n",
       "      <td>271099619</td>\n",
       "      <td>223885940544</td>\n",
       "      <td>F</td>\n",
       "      <td>1962</td>\n",
       "    </tr>\n",
       "    <tr>\n",
       "      <th>3006</th>\n",
       "      <td>209547061</td>\n",
       "      <td>265864987976</td>\n",
       "      <td>F</td>\n",
       "      <td>1975</td>\n",
       "    </tr>\n",
       "    <tr>\n",
       "      <th>3007</th>\n",
       "      <td>97718872</td>\n",
       "      <td>262208637843</td>\n",
       "      <td>F</td>\n",
       "      <td>1983</td>\n",
       "    </tr>\n",
       "    <tr>\n",
       "      <th>3008</th>\n",
       "      <td>66330285</td>\n",
       "      <td>255487112307</td>\n",
       "      <td>F</td>\n",
       "      <td>1983</td>\n",
       "    </tr>\n",
       "    <tr>\n",
       "      <th>3009</th>\n",
       "      <td>NaN</td>\n",
       "      <td>NaN</td>\n",
       "      <td>NaN</td>\n",
       "      <td>NaN</td>\n",
       "    </tr>\n",
       "  </tbody>\n",
       "</table>\n",
       "<p>3010 rows × 4 columns</p>\n",
       "</div>"
      ],
      "text/plain": [
       "               id             cpf    idc_sexo    ano_dat_nascimento\n",
       "0             NaN             NaN         NaN                   NaN\n",
       "1      804129883    37311167211     M           2000               \n",
       "2      246036379    34115266395     M           1969               \n",
       "3      218979283    35622655491     M           1970               \n",
       "4      717277229    33222324480     F           1994               \n",
       "...           ...             ...         ...                   ...\n",
       "3005   271099619    223885940544    F           1962               \n",
       "3006   209547061    265864987976    F           1975               \n",
       "3007   97718872     262208637843    F           1983               \n",
       "3008   66330285     255487112307    F           1983               \n",
       "3009          NaN             NaN         NaN                   NaN\n",
       "\n",
       "[3010 rows x 4 columns]"
      ]
     },
     "execution_count": 12,
     "metadata": {},
     "output_type": "execute_result"
    }
   ],
   "source": [
    "# Exemplo da tabela antes de retirar os valores nulos entre as quebras de página:\n",
    "pessoa_fisica\n",
    "\n",
    "\n",
    "# Como você pode observar na tabela abaixo, existe linhas entre as quebras de página, que possuem valores nulos"
   ]
  },
  {
   "cell_type": "code",
   "execution_count": 13,
   "metadata": {},
   "outputs": [],
   "source": [
    "# Retirando os valores nulos entre as quebras de página:\n",
    "\n",
    "pessoa_fisica = pessoa_fisica[(pd.isna(pessoa_fisica['id']) != True)]"
   ]
  },
  {
   "cell_type": "markdown",
   "metadata": {},
   "source": [
    "## Retirando as quebras de pagina no DataFrame"
   ]
  },
  {
   "cell_type": "code",
   "execution_count": null,
   "metadata": {},
   "outputs": [],
   "source": []
  },
  {
   "cell_type": "code",
   "execution_count": 14,
   "metadata": {},
   "outputs": [
    {
     "data": {
      "text/html": [
       "<div>\n",
       "<style scoped>\n",
       "    .dataframe tbody tr th:only-of-type {\n",
       "        vertical-align: middle;\n",
       "    }\n",
       "\n",
       "    .dataframe tbody tr th {\n",
       "        vertical-align: top;\n",
       "    }\n",
       "\n",
       "    .dataframe thead th {\n",
       "        text-align: right;\n",
       "    }\n",
       "</style>\n",
       "<table border=\"1\" class=\"dataframe\">\n",
       "  <thead>\n",
       "    <tr style=\"text-align: right;\">\n",
       "      <th></th>\n",
       "      <th>id</th>\n",
       "      <th>cpf</th>\n",
       "      <th>idc_sexo</th>\n",
       "      <th>ano_dat_nascimento</th>\n",
       "    </tr>\n",
       "  </thead>\n",
       "  <tbody>\n",
       "    <tr>\n",
       "      <th>1</th>\n",
       "      <td>804129883</td>\n",
       "      <td>37311167211</td>\n",
       "      <td>M</td>\n",
       "      <td>2000</td>\n",
       "    </tr>\n",
       "    <tr>\n",
       "      <th>2</th>\n",
       "      <td>246036379</td>\n",
       "      <td>34115266395</td>\n",
       "      <td>M</td>\n",
       "      <td>1969</td>\n",
       "    </tr>\n",
       "    <tr>\n",
       "      <th>3</th>\n",
       "      <td>218979283</td>\n",
       "      <td>35622655491</td>\n",
       "      <td>M</td>\n",
       "      <td>1970</td>\n",
       "    </tr>\n",
       "    <tr>\n",
       "      <th>4</th>\n",
       "      <td>717277229</td>\n",
       "      <td>33222324480</td>\n",
       "      <td>F</td>\n",
       "      <td>1994</td>\n",
       "    </tr>\n",
       "    <tr>\n",
       "      <th>5</th>\n",
       "      <td>3674219</td>\n",
       "      <td>1505546115</td>\n",
       "      <td>M</td>\n",
       "      <td>1971</td>\n",
       "    </tr>\n",
       "    <tr>\n",
       "      <th>...</th>\n",
       "      <td>...</td>\n",
       "      <td>...</td>\n",
       "      <td>...</td>\n",
       "      <td>...</td>\n",
       "    </tr>\n",
       "    <tr>\n",
       "      <th>3004</th>\n",
       "      <td>123479485</td>\n",
       "      <td>255051104931</td>\n",
       "      <td>M</td>\n",
       "      <td>1983</td>\n",
       "    </tr>\n",
       "    <tr>\n",
       "      <th>3005</th>\n",
       "      <td>271099619</td>\n",
       "      <td>223885940544</td>\n",
       "      <td>F</td>\n",
       "      <td>1962</td>\n",
       "    </tr>\n",
       "    <tr>\n",
       "      <th>3006</th>\n",
       "      <td>209547061</td>\n",
       "      <td>265864987976</td>\n",
       "      <td>F</td>\n",
       "      <td>1975</td>\n",
       "    </tr>\n",
       "    <tr>\n",
       "      <th>3007</th>\n",
       "      <td>97718872</td>\n",
       "      <td>262208637843</td>\n",
       "      <td>F</td>\n",
       "      <td>1983</td>\n",
       "    </tr>\n",
       "    <tr>\n",
       "      <th>3008</th>\n",
       "      <td>66330285</td>\n",
       "      <td>255487112307</td>\n",
       "      <td>F</td>\n",
       "      <td>1983</td>\n",
       "    </tr>\n",
       "  </tbody>\n",
       "</table>\n",
       "<p>3002 rows × 4 columns</p>\n",
       "</div>"
      ],
      "text/plain": [
       "               id             cpf    idc_sexo    ano_dat_nascimento\n",
       "1      804129883    37311167211     M           2000               \n",
       "2      246036379    34115266395     M           1969               \n",
       "3      218979283    35622655491     M           1970               \n",
       "4      717277229    33222324480     F           1994               \n",
       "5      3674219      1505546115      M           1971               \n",
       "...           ...             ...         ...                   ...\n",
       "3004   123479485    255051104931    M           1983               \n",
       "3005   271099619    223885940544    F           1962               \n",
       "3006   209547061    265864987976    F           1975               \n",
       "3007   97718872     262208637843    F           1983               \n",
       "3008   66330285     255487112307    F           1983               \n",
       "\n",
       "[3002 rows x 4 columns]"
      ]
     },
     "execution_count": 14,
     "metadata": {},
     "output_type": "execute_result"
    }
   ],
   "source": [
    "# Usando a váriavel anterior para retirar as quebrar de página:\n",
    "\n",
    "pessoa_fisica[(pessoa_fisica['cpf'] != coluna)]"
   ]
  },
  {
   "cell_type": "code",
   "execution_count": 15,
   "metadata": {},
   "outputs": [
    {
     "data": {
      "text/plain": [
       "id                    3002\n",
       "cpf                   3002\n",
       "idc_sexo              3002\n",
       "ano_dat_nascimento    3002\n",
       "dtype: int64"
      ]
     },
     "execution_count": 15,
     "metadata": {},
     "output_type": "execute_result"
    }
   ],
   "source": [
    "pessoa_fisica.count()"
   ]
  },
  {
   "cell_type": "code",
   "execution_count": 16,
   "metadata": {},
   "outputs": [
    {
     "data": {
      "text/plain": [
       "(3002, 4)"
      ]
     },
     "execution_count": 16,
     "metadata": {},
     "output_type": "execute_result"
    }
   ],
   "source": [
    "pessoa_fisica.shape"
   ]
  },
  {
   "cell_type": "code",
   "execution_count": null,
   "metadata": {},
   "outputs": [],
   "source": []
  }
 ],
 "metadata": {
  "kernelspec": {
   "display_name": "Python 3",
   "language": "python",
   "name": "python3"
  },
  "language_info": {
   "codemirror_mode": {
    "name": "ipython",
    "version": 3
   },
   "file_extension": ".py",
   "mimetype": "text/x-python",
   "name": "python",
   "nbconvert_exporter": "python",
   "pygments_lexer": "ipython3",
   "version": "3.7.5"
  }
 },
 "nbformat": 4,
 "nbformat_minor": 4
}
