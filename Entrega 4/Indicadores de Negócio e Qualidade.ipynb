{
 "cells": [
  {
   "cell_type": "markdown",
   "metadata": {},
   "source": [
    "# Indicadores de Qualidade"
   ]
  },
  {
   "cell_type": "markdown",
   "metadata": {},
   "source": [
    "## 00. Declarando Bibliotecas"
   ]
  },
  {
   "cell_type": "code",
   "execution_count": 1,
   "metadata": {},
   "outputs": [
    {
     "ename": "ModuleNotFoundError",
     "evalue": "No module named 'controller'",
     "output_type": "error",
     "traceback": [
      "\u001b[1;31m---------------------------------------------------------------------------\u001b[0m",
      "\u001b[1;31mModuleNotFoundError\u001b[0m                       Traceback (most recent call last)",
      "\u001b[1;32m<ipython-input-1-d355a23d92be>\u001b[0m in \u001b[0;36m<module>\u001b[1;34m\u001b[0m\n\u001b[0;32m      3\u001b[0m \u001b[1;32mimport\u001b[0m \u001b[0mdatetime\u001b[0m\u001b[1;33m\u001b[0m\u001b[1;33m\u001b[0m\u001b[0m\n\u001b[0;32m      4\u001b[0m \u001b[1;32mimport\u001b[0m \u001b[0mmatplotlib\u001b[0m\u001b[1;33m.\u001b[0m\u001b[0mpyplot\u001b[0m \u001b[1;32mas\u001b[0m \u001b[0mplt\u001b[0m\u001b[1;33m\u001b[0m\u001b[1;33m\u001b[0m\u001b[0m\n\u001b[1;32m----> 5\u001b[1;33m \u001b[1;32mimport\u001b[0m \u001b[0mcontroller\u001b[0m \u001b[1;32mas\u001b[0m \u001b[0mcontrol\u001b[0m\u001b[1;33m,\u001b[0m \u001b[0mcontroller\u001b[0m \u001b[1;31m#Arquivo com o código fonte de todos as funções desenvolvidas pela equipe\u001b[0m\u001b[1;33m\u001b[0m\u001b[1;33m\u001b[0m\u001b[0m\n\u001b[0m",
      "\u001b[1;31mModuleNotFoundError\u001b[0m: No module named 'controller'"
     ]
    }
   ],
   "source": [
    "import pandas as pd \n",
    "import os\n",
    "import datetime\n",
    "import matplotlib.pyplot as plt\n",
    "import controller as control, controller #Arquivo com o código fonte de todos as funções desenvolvidas pela equipe"
   ]
  },
  {
   "cell_type": "markdown",
   "metadata": {},
   "source": [
    "## 1. Criação de dataframes e adaptação"
   ]
  },
  {
   "cell_type": "markdown",
   "metadata": {},
   "source": [
    "#### 1.1 Criando os dataframes das bases de dados em Excel"
   ]
  },
  {
   "cell_type": "code",
   "execution_count": 2,
   "metadata": {},
   "outputs": [
    {
     "ename": "FileNotFoundError",
     "evalue": "[Errno 2] No such file or directory: '../dados/STG_MDL.xlsx'",
     "output_type": "error",
     "traceback": [
      "\u001b[1;31m---------------------------------------------------------------------------\u001b[0m",
      "\u001b[1;31mFileNotFoundError\u001b[0m                         Traceback (most recent call last)",
      "\u001b[1;32m<ipython-input-2-3d5d9390ef69>\u001b[0m in \u001b[0;36m<module>\u001b[1;34m\u001b[0m\n\u001b[0;32m      1\u001b[0m \u001b[1;31m# Dados Principais\u001b[0m\u001b[1;33m\u001b[0m\u001b[1;33m\u001b[0m\u001b[1;33m\u001b[0m\u001b[0m\n\u001b[1;32m----> 2\u001b[1;33m \u001b[0mmodalidade\u001b[0m \u001b[1;33m=\u001b[0m \u001b[0mpd\u001b[0m\u001b[1;33m.\u001b[0m\u001b[0mread_excel\u001b[0m\u001b[1;33m(\u001b[0m\u001b[1;34m'../dados/STG_MDL.xlsx'\u001b[0m\u001b[1;33m)\u001b[0m\u001b[1;33m\u001b[0m\u001b[1;33m\u001b[0m\u001b[0m\n\u001b[0m\u001b[0;32m      3\u001b[0m \u001b[0mpagamento\u001b[0m \u001b[1;33m=\u001b[0m \u001b[0mpd\u001b[0m\u001b[1;33m.\u001b[0m\u001b[0mread_excel\u001b[0m\u001b[1;33m(\u001b[0m\u001b[1;34m'../dados/STG_PGT.xlsx'\u001b[0m\u001b[1;33m)\u001b[0m\u001b[1;33m\u001b[0m\u001b[1;33m\u001b[0m\u001b[0m\n\u001b[0;32m      4\u001b[0m \u001b[0mmovimento\u001b[0m \u001b[1;33m=\u001b[0m \u001b[0mpd\u001b[0m\u001b[1;33m.\u001b[0m\u001b[0mread_excel\u001b[0m\u001b[1;33m(\u001b[0m\u001b[1;34m'../dados/STG_MVT_CRD.xlsx'\u001b[0m\u001b[1;33m)\u001b[0m\u001b[1;33m\u001b[0m\u001b[1;33m\u001b[0m\u001b[0m\n\u001b[0;32m      5\u001b[0m \u001b[0moperacao\u001b[0m \u001b[1;33m=\u001b[0m \u001b[0mpd\u001b[0m\u001b[1;33m.\u001b[0m\u001b[0mread_excel\u001b[0m\u001b[1;33m(\u001b[0m\u001b[1;34m'../dados/STG_OPR_ITT.xlsx'\u001b[0m\u001b[1;33m)\u001b[0m\u001b[1;33m\u001b[0m\u001b[1;33m\u001b[0m\u001b[0m\n",
      "\u001b[1;32mc:\\users\\matheus\\appdata\\roaming\\lib\\site-packages\\pandas\\io\\excel\\_base.py\u001b[0m in \u001b[0;36mread_excel\u001b[1;34m(io, sheet_name, header, names, index_col, usecols, squeeze, dtype, engine, converters, true_values, false_values, skiprows, nrows, na_values, keep_default_na, verbose, parse_dates, date_parser, thousands, comment, skipfooter, convert_float, mangle_dupe_cols, **kwds)\u001b[0m\n\u001b[0;32m    302\u001b[0m \u001b[1;33m\u001b[0m\u001b[0m\n\u001b[0;32m    303\u001b[0m     \u001b[1;32mif\u001b[0m \u001b[1;32mnot\u001b[0m \u001b[0misinstance\u001b[0m\u001b[1;33m(\u001b[0m\u001b[0mio\u001b[0m\u001b[1;33m,\u001b[0m \u001b[0mExcelFile\u001b[0m\u001b[1;33m)\u001b[0m\u001b[1;33m:\u001b[0m\u001b[1;33m\u001b[0m\u001b[1;33m\u001b[0m\u001b[0m\n\u001b[1;32m--> 304\u001b[1;33m         \u001b[0mio\u001b[0m \u001b[1;33m=\u001b[0m \u001b[0mExcelFile\u001b[0m\u001b[1;33m(\u001b[0m\u001b[0mio\u001b[0m\u001b[1;33m,\u001b[0m \u001b[0mengine\u001b[0m\u001b[1;33m=\u001b[0m\u001b[0mengine\u001b[0m\u001b[1;33m)\u001b[0m\u001b[1;33m\u001b[0m\u001b[1;33m\u001b[0m\u001b[0m\n\u001b[0m\u001b[0;32m    305\u001b[0m     \u001b[1;32melif\u001b[0m \u001b[0mengine\u001b[0m \u001b[1;32mand\u001b[0m \u001b[0mengine\u001b[0m \u001b[1;33m!=\u001b[0m \u001b[0mio\u001b[0m\u001b[1;33m.\u001b[0m\u001b[0mengine\u001b[0m\u001b[1;33m:\u001b[0m\u001b[1;33m\u001b[0m\u001b[1;33m\u001b[0m\u001b[0m\n\u001b[0;32m    306\u001b[0m         raise ValueError(\n",
      "\u001b[1;32mc:\\users\\matheus\\appdata\\roaming\\lib\\site-packages\\pandas\\io\\excel\\_base.py\u001b[0m in \u001b[0;36m__init__\u001b[1;34m(self, io, engine)\u001b[0m\n\u001b[0;32m    822\u001b[0m         \u001b[0mself\u001b[0m\u001b[1;33m.\u001b[0m\u001b[0m_io\u001b[0m \u001b[1;33m=\u001b[0m \u001b[0mstringify_path\u001b[0m\u001b[1;33m(\u001b[0m\u001b[0mio\u001b[0m\u001b[1;33m)\u001b[0m\u001b[1;33m\u001b[0m\u001b[1;33m\u001b[0m\u001b[0m\n\u001b[0;32m    823\u001b[0m \u001b[1;33m\u001b[0m\u001b[0m\n\u001b[1;32m--> 824\u001b[1;33m         \u001b[0mself\u001b[0m\u001b[1;33m.\u001b[0m\u001b[0m_reader\u001b[0m \u001b[1;33m=\u001b[0m \u001b[0mself\u001b[0m\u001b[1;33m.\u001b[0m\u001b[0m_engines\u001b[0m\u001b[1;33m[\u001b[0m\u001b[0mengine\u001b[0m\u001b[1;33m]\u001b[0m\u001b[1;33m(\u001b[0m\u001b[0mself\u001b[0m\u001b[1;33m.\u001b[0m\u001b[0m_io\u001b[0m\u001b[1;33m)\u001b[0m\u001b[1;33m\u001b[0m\u001b[1;33m\u001b[0m\u001b[0m\n\u001b[0m\u001b[0;32m    825\u001b[0m \u001b[1;33m\u001b[0m\u001b[0m\n\u001b[0;32m    826\u001b[0m     \u001b[1;32mdef\u001b[0m \u001b[0m__fspath__\u001b[0m\u001b[1;33m(\u001b[0m\u001b[0mself\u001b[0m\u001b[1;33m)\u001b[0m\u001b[1;33m:\u001b[0m\u001b[1;33m\u001b[0m\u001b[1;33m\u001b[0m\u001b[0m\n",
      "\u001b[1;32mc:\\users\\matheus\\appdata\\roaming\\lib\\site-packages\\pandas\\io\\excel\\_xlrd.py\u001b[0m in \u001b[0;36m__init__\u001b[1;34m(self, filepath_or_buffer)\u001b[0m\n\u001b[0;32m     19\u001b[0m         \u001b[0merr_msg\u001b[0m \u001b[1;33m=\u001b[0m \u001b[1;34m\"Install xlrd >= 1.0.0 for Excel support\"\u001b[0m\u001b[1;33m\u001b[0m\u001b[1;33m\u001b[0m\u001b[0m\n\u001b[0;32m     20\u001b[0m         \u001b[0mimport_optional_dependency\u001b[0m\u001b[1;33m(\u001b[0m\u001b[1;34m\"xlrd\"\u001b[0m\u001b[1;33m,\u001b[0m \u001b[0mextra\u001b[0m\u001b[1;33m=\u001b[0m\u001b[0merr_msg\u001b[0m\u001b[1;33m)\u001b[0m\u001b[1;33m\u001b[0m\u001b[1;33m\u001b[0m\u001b[0m\n\u001b[1;32m---> 21\u001b[1;33m         \u001b[0msuper\u001b[0m\u001b[1;33m(\u001b[0m\u001b[1;33m)\u001b[0m\u001b[1;33m.\u001b[0m\u001b[0m__init__\u001b[0m\u001b[1;33m(\u001b[0m\u001b[0mfilepath_or_buffer\u001b[0m\u001b[1;33m)\u001b[0m\u001b[1;33m\u001b[0m\u001b[1;33m\u001b[0m\u001b[0m\n\u001b[0m\u001b[0;32m     22\u001b[0m \u001b[1;33m\u001b[0m\u001b[0m\n\u001b[0;32m     23\u001b[0m     \u001b[1;33m@\u001b[0m\u001b[0mproperty\u001b[0m\u001b[1;33m\u001b[0m\u001b[1;33m\u001b[0m\u001b[0m\n",
      "\u001b[1;32mc:\\users\\matheus\\appdata\\roaming\\lib\\site-packages\\pandas\\io\\excel\\_base.py\u001b[0m in \u001b[0;36m__init__\u001b[1;34m(self, filepath_or_buffer)\u001b[0m\n\u001b[0;32m    351\u001b[0m             \u001b[0mself\u001b[0m\u001b[1;33m.\u001b[0m\u001b[0mbook\u001b[0m \u001b[1;33m=\u001b[0m \u001b[0mself\u001b[0m\u001b[1;33m.\u001b[0m\u001b[0mload_workbook\u001b[0m\u001b[1;33m(\u001b[0m\u001b[0mfilepath_or_buffer\u001b[0m\u001b[1;33m)\u001b[0m\u001b[1;33m\u001b[0m\u001b[1;33m\u001b[0m\u001b[0m\n\u001b[0;32m    352\u001b[0m         \u001b[1;32melif\u001b[0m \u001b[0misinstance\u001b[0m\u001b[1;33m(\u001b[0m\u001b[0mfilepath_or_buffer\u001b[0m\u001b[1;33m,\u001b[0m \u001b[0mstr\u001b[0m\u001b[1;33m)\u001b[0m\u001b[1;33m:\u001b[0m\u001b[1;33m\u001b[0m\u001b[1;33m\u001b[0m\u001b[0m\n\u001b[1;32m--> 353\u001b[1;33m             \u001b[0mself\u001b[0m\u001b[1;33m.\u001b[0m\u001b[0mbook\u001b[0m \u001b[1;33m=\u001b[0m \u001b[0mself\u001b[0m\u001b[1;33m.\u001b[0m\u001b[0mload_workbook\u001b[0m\u001b[1;33m(\u001b[0m\u001b[0mfilepath_or_buffer\u001b[0m\u001b[1;33m)\u001b[0m\u001b[1;33m\u001b[0m\u001b[1;33m\u001b[0m\u001b[0m\n\u001b[0m\u001b[0;32m    354\u001b[0m         \u001b[1;32melif\u001b[0m \u001b[0misinstance\u001b[0m\u001b[1;33m(\u001b[0m\u001b[0mfilepath_or_buffer\u001b[0m\u001b[1;33m,\u001b[0m \u001b[0mbytes\u001b[0m\u001b[1;33m)\u001b[0m\u001b[1;33m:\u001b[0m\u001b[1;33m\u001b[0m\u001b[1;33m\u001b[0m\u001b[0m\n\u001b[0;32m    355\u001b[0m             \u001b[0mself\u001b[0m\u001b[1;33m.\u001b[0m\u001b[0mbook\u001b[0m \u001b[1;33m=\u001b[0m \u001b[0mself\u001b[0m\u001b[1;33m.\u001b[0m\u001b[0mload_workbook\u001b[0m\u001b[1;33m(\u001b[0m\u001b[0mBytesIO\u001b[0m\u001b[1;33m(\u001b[0m\u001b[0mfilepath_or_buffer\u001b[0m\u001b[1;33m)\u001b[0m\u001b[1;33m)\u001b[0m\u001b[1;33m\u001b[0m\u001b[1;33m\u001b[0m\u001b[0m\n",
      "\u001b[1;32mc:\\users\\matheus\\appdata\\roaming\\lib\\site-packages\\pandas\\io\\excel\\_xlrd.py\u001b[0m in \u001b[0;36mload_workbook\u001b[1;34m(self, filepath_or_buffer)\u001b[0m\n\u001b[0;32m     34\u001b[0m             \u001b[1;32mreturn\u001b[0m \u001b[0mopen_workbook\u001b[0m\u001b[1;33m(\u001b[0m\u001b[0mfile_contents\u001b[0m\u001b[1;33m=\u001b[0m\u001b[0mdata\u001b[0m\u001b[1;33m)\u001b[0m\u001b[1;33m\u001b[0m\u001b[1;33m\u001b[0m\u001b[0m\n\u001b[0;32m     35\u001b[0m         \u001b[1;32melse\u001b[0m\u001b[1;33m:\u001b[0m\u001b[1;33m\u001b[0m\u001b[1;33m\u001b[0m\u001b[0m\n\u001b[1;32m---> 36\u001b[1;33m             \u001b[1;32mreturn\u001b[0m \u001b[0mopen_workbook\u001b[0m\u001b[1;33m(\u001b[0m\u001b[0mfilepath_or_buffer\u001b[0m\u001b[1;33m)\u001b[0m\u001b[1;33m\u001b[0m\u001b[1;33m\u001b[0m\u001b[0m\n\u001b[0m\u001b[0;32m     37\u001b[0m \u001b[1;33m\u001b[0m\u001b[0m\n\u001b[0;32m     38\u001b[0m     \u001b[1;33m@\u001b[0m\u001b[0mproperty\u001b[0m\u001b[1;33m\u001b[0m\u001b[1;33m\u001b[0m\u001b[0m\n",
      "\u001b[1;32m~\\AppData\\Roaming\\Python\\Python37\\site-packages\\xlrd\\__init__.py\u001b[0m in \u001b[0;36mopen_workbook\u001b[1;34m(filename, logfile, verbosity, use_mmap, file_contents, encoding_override, formatting_info, on_demand, ragged_rows)\u001b[0m\n\u001b[0;32m    109\u001b[0m     \u001b[1;32melse\u001b[0m\u001b[1;33m:\u001b[0m\u001b[1;33m\u001b[0m\u001b[1;33m\u001b[0m\u001b[0m\n\u001b[0;32m    110\u001b[0m         \u001b[0mfilename\u001b[0m \u001b[1;33m=\u001b[0m \u001b[0mos\u001b[0m\u001b[1;33m.\u001b[0m\u001b[0mpath\u001b[0m\u001b[1;33m.\u001b[0m\u001b[0mexpanduser\u001b[0m\u001b[1;33m(\u001b[0m\u001b[0mfilename\u001b[0m\u001b[1;33m)\u001b[0m\u001b[1;33m\u001b[0m\u001b[1;33m\u001b[0m\u001b[0m\n\u001b[1;32m--> 111\u001b[1;33m         \u001b[1;32mwith\u001b[0m \u001b[0mopen\u001b[0m\u001b[1;33m(\u001b[0m\u001b[0mfilename\u001b[0m\u001b[1;33m,\u001b[0m \u001b[1;34m\"rb\"\u001b[0m\u001b[1;33m)\u001b[0m \u001b[1;32mas\u001b[0m \u001b[0mf\u001b[0m\u001b[1;33m:\u001b[0m\u001b[1;33m\u001b[0m\u001b[1;33m\u001b[0m\u001b[0m\n\u001b[0m\u001b[0;32m    112\u001b[0m             \u001b[0mpeek\u001b[0m \u001b[1;33m=\u001b[0m \u001b[0mf\u001b[0m\u001b[1;33m.\u001b[0m\u001b[0mread\u001b[0m\u001b[1;33m(\u001b[0m\u001b[0mpeeksz\u001b[0m\u001b[1;33m)\u001b[0m\u001b[1;33m\u001b[0m\u001b[1;33m\u001b[0m\u001b[0m\n\u001b[0;32m    113\u001b[0m     \u001b[1;32mif\u001b[0m \u001b[0mpeek\u001b[0m \u001b[1;33m==\u001b[0m \u001b[1;34mb\"PK\\x03\\x04\"\u001b[0m\u001b[1;33m:\u001b[0m \u001b[1;31m# a ZIP file\u001b[0m\u001b[1;33m\u001b[0m\u001b[1;33m\u001b[0m\u001b[0m\n",
      "\u001b[1;31mFileNotFoundError\u001b[0m: [Errno 2] No such file or directory: '../dados/STG_MDL.xlsx'"
     ]
    }
   ],
   "source": [
    "# Dados Principais\n",
    "modalidade = pd.read_excel('../dados/STG_MDL.xlsx')\n",
    "pagamento = pd.read_excel('../dados/STG_PGT.xlsx')\n",
    "movimento = pd.read_excel('../dados/STG_MVT_CRD.xlsx')\n",
    "operacao = pd.read_excel('../dados/STG_OPR_ITT.xlsx')\n",
    "fonte = pd.read_excel('../dados/STG_FNT_ITT.xlsx')\n",
    "\n",
    "# Dados Complementares\n",
    "pessoa_fisica = pd.read_csv(\"dados/fatec_pessoa_fisica.csv\", sep = '|', encoding='UTF-8', header = 1)\n",
    "endereco_pessoa_fisica = pd.read_csv(\"dados/fatec_endereco_pessoa_fisica.csv\", sep = '|', encoding='UTF-8', header = 1)\n",
    "fatec_operacao = pd.read_csv(\"dados/fatec_opr.csv\", sep = '|', encoding='UTF-8', header = 1)\n",
    "fatec_movimento = pd.read_csv(\"dados/fatec_mvt.csv\", sep = '|', encoding='UTF-8', header = 1)\n",
    "fatec_pagamento = pd.read_csv(\"dados/fatec_pgt.csv\", sep = '|', encoding='UTF-8', header = 1)"
   ]
  },
  {
   "cell_type": "markdown",
   "metadata": {},
   "source": [
    "#### 1.2 Aplicando padrão de nome de colunas estabelecido pela equipe, apenas para etapa de manipulação"
   ]
  },
  {
   "cell_type": "code",
   "execution_count": null,
   "metadata": {},
   "outputs": [],
   "source": [
    "# Dados Principais\n",
    "modalidade.columns = ['id_mod', 'codigo_mod', 'descri_mod', 'DAT_INC_DBO']\n",
    "pagamento.columns = ['id_pagamento', 'vlr_pago', 'data_vencimento', 'codigo_mod', 'qtd_clientes', 'qtd_pagamento', 'id_fonte', 'tipo_pessoa', 'DAT_RSS_FNT_ITT', 'DAT_INC_DBO']\n",
    "movimento.columns = ['id_movi', 'vlr_saldo', 'vlr_total_fat', 'vlr_min_fat', 'vlr_parcela_fat', 'qtd_clientes', 'qtd_movi', 'tipo_pessoa', 'id_fonte', 'codigo_mod', 'DAT_RSS_FNT_ITT', 'DAT_INC_DBO']\n",
    "operacao.columns = ['id_operacao', 'vlr_contrato', 'qtd_parcelas', 'vlr_pendente', 'qtd_clientes', 'qtd_operacao', 'id_fonte', 'codigo_mod', 'tipo_pessoa', 'DAT_RSS_FNT_ITT', 'DAT_INC_DBO']\n",
    "fonte.columns = ['id_fonte', 'cnpj', 'complemento', 'NOM_COM', 'NOM_RAZ_SCL', 'DAT_INC_DBO']\n",
    "\n",
    "\n",
    "\n",
    "# Dados Completares\n",
    "\n",
    "# Retirando as colunas desnecessárias\n",
    "pessoa_fisica_colunas = pessoa_fisica.columns[1:len(pessoa_fisica.columns) - 1]\n",
    "endereco_pessoa_fisica_colunas = endereco_pessoa_fisica.columns[1:len(endereco_pessoa_fisica.columns) - 1]\n",
    "fatec_operacao_colunas = fatec_operacao.columns[1:len(fatec_operacao.columns) - 1]\n",
    "fatec_movimento_colunas = fatec_movimento.columns[1:len(fatec_movimento.columns) - 1]\n",
    "fatec_pagamento_colunas = fatec_pagamento.columns[1:len(fatec_pagamento.columns) - 1]\n",
    "\n",
    "# Armazenando o nome de uma coluna de cada tabela numa váriavel\n",
    "coluna_pessoa_fisica = pessoa_fisica.columns[1]\n",
    "coluna_endereco_pessoa_fisica = endereco_pessoa_fisica.columns[1]\n",
    "coluna_fatec_operacao = fatec_operacao.columns[1]\n",
    "coluna_fatec_movimento = fatec_movimento.columns[1]\n",
    "coluna_fatec_pagamento = fatec_pagamento.columns[1]\n",
    "\n",
    "# Redefinindo os DataFrames\n",
    "pessoa_fisica = pd.DataFrame(pessoa_fisica, columns = pessoa_fisica_colunas)\n",
    "endereco_pessoa_fisica = pd.DataFrame(endereco_pessoa_fisica, columns = endereco_pessoa_fisica_colunas)\n",
    "fatec_operacao = pd.DataFrame(fatec_operacao, columns = fatec_operacao_colunas)\n",
    "fatec_movimento = pd.DataFrame(fatec_movimento, columns = fatec_movimento_colunas)\n",
    "fatec_pagamento = pd.DataFrame(fatec_pagamento, columns = fatec_pagamento_colunas)\n",
    "\n",
    "# Redefinindo o nome de cada coluna\n",
    "pessoa_fisica.columns = ['id', 'cpf', 'idc_sexo', 'ano_dat_nascimento']\n",
    "endereco_pessoa_fisica.columns = ['id_pessoa_fisica', 'nom_cidade', 'des_estado']\n",
    "fatec_operacao.columns = ['id_opr_cad_pos', 'doc_cli', 'tip_cli', 'qtd_pcl', 'dat_vct_ult_pcl', 'vlr_ctrd_fta_tfm', 'sdo_ddr_tfm', 'vlr_ctrd', 'id_ult_rss_opr', 'id_mdl', 'cod_mdl', 'id_fnt']\n",
    "fatec_movimento.columns = ['id_opr_cad_pos', 'id_mvt_cad_pos', 'dat_vct', 'qtd_pcl_vnc', 'qtd_pcl_pgr', 'vlr_tot_fat_tfm',\t'vlr_min_fat_tfm', 'vlr_pcl_tfm', 'tip_mvt', 'prd']\n",
    "fatec_pagamento.columns = ['id_opr_cad_pos', 'id_mvt_cad_pos', 'id_pgt_cad_pos', 'dat_pgt', 'dat_vct_tfm', 'vlr_pgt_tfm', 'cod_mdl', 'cmd']"
   ]
  },
  {
   "cell_type": "markdown",
   "metadata": {},
   "source": [
    "O nome das colunas foi alterado para deixar o código mais legível durante seu desenvolvimento.\n",
    "Abaixo está disponível uma tabela de referência entre o nome original e o utilizado durante o desenvolvimento do projeto."
   ]
  },
  {
   "cell_type": "code",
   "execution_count": null,
   "metadata": {},
   "outputs": [],
   "source": [
    "pd.read_csv('../padronização/padrao_colunas.csv', sep = ';')"
   ]
  },
  {
   "cell_type": "markdown",
   "metadata": {},
   "source": [
    "#### 1.3 Criando o atributo .nome para facilitar a exibição das tabelas nas respectivas funções"
   ]
  },
  {
   "cell_type": "code",
   "execution_count": null,
   "metadata": {},
   "outputs": [],
   "source": [
    "# Dados Principais \n",
    "fonte.nome = 'Fonte'\n",
    "movimento.nome = 'Movimentações'\n",
    "operacao.nome = 'Operações'\n",
    "pagamento.nome = 'Pagamento'\n",
    "modalidade.nome = 'Modalidade'"
   ]
  },
  {
   "cell_type": "markdown",
   "metadata": {},
   "source": [
    "#### 1.4 Limpando os dados\n",
    "\n",
    "Retirando as quebras de página presentes dentro do DataFrame (juntamente de valores nulos que as acompanham)."
   ]
  },
  {
   "cell_type": "code",
   "execution_count": null,
   "metadata": {},
   "outputs": [],
   "source": [
    "# Retirando os valores nulos entre as quebras de página:\n",
    "pessoa_fisica = pessoa_fisica[(pd.isna(pessoa_fisica['cpf']) != True)]\n",
    "endereco_pessoa_fisica = endereco_pessoa_fisica[(pd.isna(endereco_pessoa_fisica['id_pessoa_fisica']) != True)]\n",
    "fatec_operacao = fatec_operacao[(pd.isna(fatec_operacao['id_opr_cad_pos']) != True)]\n",
    "fatec_movimento = fatec_movimento[(pd.isna(fatec_movimento['id_opr_cad_pos']) != True)]\n",
    "fatec_pagamento = fatec_pagamento[(pd.isna(fatec_pagamento['id_opr_cad_pos']) != True)]\n",
    "\n",
    "# Usando a váriavel anterior para retirar as quebrar de página:\n",
    "pessoa_fisica = pessoa_fisica[(pessoa_fisica['id'] != coluna_pessoa_fisica)]\n",
    "endereco_pessoa_fisica = endereco_pessoa_fisica[(endereco_pessoa_fisica['id_pessoa_fisica'] != coluna_endereco_pessoa_fisica)]\n",
    "fatec_operacao = fatec_operacao[(fatec_operacao['id_opr_cad_pos'] != coluna_fatec_operacao)]\n",
    "fatec_movimento = fatec_movimento[(fatec_movimento['id_opr_cad_pos'] != coluna_fatec_movimento)]\n",
    "fatec_pagamento = fatec_pagamento[(fatec_pagamento['id_opr_cad_pos'] != coluna_fatec_pagamento)]"
   ]
  },
  {
   "cell_type": "markdown",
   "metadata": {},
   "source": [
    "## 2. Apresentação da situação atual dos dados"
   ]
  },
  {
   "cell_type": "code",
   "execution_count": null,
   "metadata": {},
   "outputs": [],
   "source": [
    "fonte.head()"
   ]
  },
  {
   "cell_type": "code",
   "execution_count": null,
   "metadata": {},
   "outputs": [],
   "source": [
    "modalidade.head()"
   ]
  },
  {
   "cell_type": "code",
   "execution_count": null,
   "metadata": {},
   "outputs": [],
   "source": [
    "movimento.head()"
   ]
  },
  {
   "cell_type": "code",
   "execution_count": null,
   "metadata": {},
   "outputs": [],
   "source": [
    "operacao.head()"
   ]
  },
  {
   "cell_type": "code",
   "execution_count": null,
   "metadata": {},
   "outputs": [],
   "source": [
    "pagamento.head()"
   ]
  },
  {
   "cell_type": "code",
   "execution_count": null,
   "metadata": {},
   "outputs": [],
   "source": [
    "pessoa_fisica.head()"
   ]
  },
  {
   "cell_type": "code",
   "execution_count": null,
   "metadata": {},
   "outputs": [],
   "source": [
    "endereco_pessoa_fisica.head()"
   ]
  },
  {
   "cell_type": "code",
   "execution_count": null,
   "metadata": {},
   "outputs": [],
   "source": [
    "fatec_operacao.head()"
   ]
  },
  {
   "cell_type": "code",
   "execution_count": null,
   "metadata": {},
   "outputs": [],
   "source": [
    "fatec_movimento.head()"
   ]
  },
  {
   "cell_type": "code",
   "execution_count": null,
   "metadata": {},
   "outputs": [],
   "source": [
    "fatec_pagamento.head()"
   ]
  },
  {
   "cell_type": "markdown",
   "metadata": {},
   "source": [
    "## 3. Funções para análise e geração dos indicadores"
   ]
  },
  {
   "cell_type": "markdown",
   "metadata": {},
   "source": [
    "Nosso projeto foi dividido em funções para análise e tratamento dos dados. Cada uma das funções definidas e desenvolvidas pela equipe possui uma funcionalidade diferente, que pode ser aplicada para uma ou mais base de dados analisadas. \n",
    "\n",
    "Estas funções podem exibir conclusões sobre a base de dados em estudo, como identificar e contabilizar os campos que não estão preenchidos corretamente, ou realizar alterações na base de dados, formatando os valores para melhor visualização destes. Todos os casos serão explicados abaixo.\n",
    "\n",
    "O capítulo 3, em seus subitens, explicará todas as funções desenvolvidas pela equipe."
   ]
  },
  {
   "cell_type": "markdown",
   "metadata": {},
   "source": [
    "#### 3.1 Primeira função: ocultar todos os campos nulos que não afetam a integridade da base de dados, conforme regras de negócio. (Caso especifico para as tabelas movimento e operação). \n",
    "A tabela de operações exibe diversos itens que não possuem os campos vlr_pendente e vlr_saldo preenchidos. Analisando a base de dados, foi possível observar que estes campos se aplicam apenas à operações da modalidade C01. \n",
    "\n",
    "Portanto, campos nulos em operações de outra modalidade não são um problema de integridade ou completude da base de dados.\n",
    "\n",
    "Ponderando que, na análise abaixo, dividimos a função em dois dataframes para facilitar a análise, sendo um dataframe somente COM a modalidade C01 e outro dataframe SEM a modalidade C01. \n",
    "\n",
    "Separamos o dataframe em duas partes pois para análisar a modalidade C01, precisamos de condições especificas, como a necessidade das colunas \"vlr_contrato\" e \"vlr_pendente\". Os valores nulos nas colunas \"vlr_contrato\" e \"vlr_pendente\" só existem quando não há o atributo da modalidade \"C01\". Os valores nulos que existem não prejudicam a integridade das informações, mas para melhor apresentação em análise, eles foram ocultados. "
   ]
  },
  {
   "cell_type": "markdown",
   "metadata": {},
   "source": [
    "##### 3.1.1 Sem a modalidade \"CO1\" - Tabela 'Operação'"
   ]
  },
  {
   "cell_type": "markdown",
   "metadata": {},
   "source": [
    "Definindo a característica específica (Dataframe SEM o C01) do Dataframe"
   ]
  },
  {
   "cell_type": "code",
   "execution_count": null,
   "metadata": {},
   "outputs": [],
   "source": [
    "id_sem_C01 = operacao[(operacao['codigo_mod'] != 'C01')]"
   ]
  },
  {
   "cell_type": "markdown",
   "metadata": {},
   "source": [
    "Criando o dataframe com as caracteristicas especificas e utilizando as colunas necessárias para a análise"
   ]
  },
  {
   "cell_type": "code",
   "execution_count": null,
   "metadata": {},
   "outputs": [],
   "source": [
    "df_sem_C01 = pd.DataFrame(id_sem_C01, columns = ['id_operacao', 'qtd_parcelas', 'qtd_clientes', 'qtd_operacao', 'id_fonte', 'codigo_mod', 'tipo_pessoa', 'DAT_RSS_FNT_ITT', 'DAT_INC_DBO'])"
   ]
  },
  {
   "cell_type": "markdown",
   "metadata": {},
   "source": [
    "Aqui podemos ver o primeiro dataframe, com as operações da modalidade C01."
   ]
  },
  {
   "cell_type": "code",
   "execution_count": null,
   "metadata": {},
   "outputs": [],
   "source": [
    "df_sem_C01.head()"
   ]
  },
  {
   "cell_type": "markdown",
   "metadata": {},
   "source": [
    "E aqui aplicamos um método de contabilização dos valores núlos. Ou seja, nenhum dos valores que deveria estar preenchido se encontra nulo. O que mostra uma completude de 100%."
   ]
  },
  {
   "cell_type": "code",
   "execution_count": null,
   "metadata": {},
   "outputs": [],
   "source": [
    "df_sem_C01.isnull().sum()"
   ]
  },
  {
   "cell_type": "code",
   "execution_count": null,
   "metadata": {},
   "outputs": [],
   "source": [
    "pd.DataFrame(df_sem_C01['codigo_mod'].value_counts()) #trazendo ID e suas modalidades"
   ]
  },
  {
   "cell_type": "markdown",
   "metadata": {},
   "source": [
    "##### 3.1.2 Com a modalidade \"C01\" - Tabela 'Operação'"
   ]
  },
  {
   "cell_type": "markdown",
   "metadata": {},
   "source": [
    "Definindo as caracteristicas especificas (Dataframe COM o C01) do dataframe"
   ]
  },
  {
   "cell_type": "code",
   "execution_count": null,
   "metadata": {},
   "outputs": [],
   "source": [
    "id_mod_C01 = operacao[(operacao['codigo_mod'] == 'C01')]"
   ]
  },
  {
   "cell_type": "markdown",
   "metadata": {},
   "source": [
    "Criando o dataframe com as caracteristicas especificas e com todas as colunas"
   ]
  },
  {
   "cell_type": "code",
   "execution_count": null,
   "metadata": {},
   "outputs": [],
   "source": [
    "df_com_C01 = pd.DataFrame(id_mod_C01)\n",
    "df_com_C01.head()"
   ]
  },
  {
   "cell_type": "markdown",
   "metadata": {},
   "source": [
    "Agora, com o segundo DataFrame derivado da tabela de operações criado, aplicaremos o método de contabilização de valores núlos."
   ]
  },
  {
   "cell_type": "code",
   "execution_count": null,
   "metadata": {},
   "outputs": [],
   "source": [
    "df_com_C01.isnull().sum()"
   ]
  },
  {
   "cell_type": "code",
   "execution_count": null,
   "metadata": {},
   "outputs": [],
   "source": [
    "df_com_C01.count()"
   ]
  },
  {
   "cell_type": "markdown",
   "metadata": {},
   "source": [
    "Ou seja, a completude da tabela de operações está em 100%."
   ]
  },
  {
   "cell_type": "code",
   "execution_count": null,
   "metadata": {},
   "outputs": [],
   "source": [
    "controller.plot_completude(operacao)"
   ]
  },
  {
   "cell_type": "markdown",
   "metadata": {},
   "source": [
    "##### 3.2 Verifica na Tabela fonte se o Nome Comercial e Razão Social são Strings\n"
   ]
  },
  {
   "cell_type": "code",
   "execution_count": null,
   "metadata": {},
   "outputs": [],
   "source": [
    "controller.checar_string(fonte)"
   ]
  },
  {
   "cell_type": "markdown",
   "metadata": {},
   "source": [
    "#### 3.2 Validação de CNPJs\n",
    "Nessa função o objetivo é você validar todos os CNPJ's, verificando os numeros de digitos"
   ]
  },
  {
   "cell_type": "code",
   "execution_count": null,
   "metadata": {},
   "outputs": [],
   "source": [
    "controller.valida_cnpj()"
   ]
  },
  {
   "cell_type": "markdown",
   "metadata": {},
   "source": [
    "#### 3.3 Validação IDs\n",
    "Nesta função, temos o objetivo de identificar se os ID's possuem continuidade, e indentificar os ID's que estão faltando.\n",
    "\n",
    "Exemplo:\n",
    "(1,2,3,5,7,8,9)\n",
    "\n",
    "Estão faltando os ID's 4 e 6."
   ]
  },
  {
   "cell_type": "code",
   "execution_count": null,
   "metadata": {},
   "outputs": [],
   "source": [
    "controller.gap_id(fonte)\n",
    "controller.gap_id(operacao)\n",
    "controller.gap_id(modalidade)\n",
    "controller.gap_id(pagamento)\n",
    "controller.gap_id(movimento)"
   ]
  },
  {
   "cell_type": "markdown",
   "metadata": {},
   "source": [
    "#### 3.4 Validação das modalidades nas tabelas"
   ]
  },
  {
   "cell_type": "markdown",
   "metadata": {},
   "source": [
    "A função executada abaixo valida se os campos da coluna que exibem os códigos de modalidade são válidos. Ou seja, se realmente existem na tabela de modalidades. Esta função é válida para as tabelas de pagamentos, operações e movimentações.\n",
    "\n",
    "A função exibe a porcentagem, assim como retorna um valor tipo float referente à porcentagem de valores faltantes. \n",
    "Caso o usuário deseje utilizar a função apenas para retornar o valor, poderá alterar o statement \"exibir\" para \"False\""
   ]
  },
  {
   "cell_type": "code",
   "execution_count": null,
   "metadata": {},
   "outputs": [],
   "source": [
    "controller.valida_modalidade(movimento)\n",
    "controller.valida_modalidade(operacao)\n",
    "controller.valida_modalidade(pagamento)"
   ]
  },
  {
   "cell_type": "markdown",
   "metadata": {},
   "source": [
    "#### 3.5 Formatando data de vencimento"
   ]
  },
  {
   "cell_type": "markdown",
   "metadata": {
    "jupyter": {
     "outputs_hidden": true
    }
   },
   "source": [
    "Esta função, chamada de \"formata_data_vencimento\", foi criada pois uma das colunas estava com o padrão de data diferente dos demais. \n",
    "Ao chamar a função, ela ajusta o formato da tabela às demais."
   ]
  },
  {
   "cell_type": "code",
   "execution_count": null,
   "metadata": {},
   "outputs": [],
   "source": [
    "controller.formata_data_vencimento(pagamento)"
   ]
  },
  {
   "cell_type": "code",
   "execution_count": null,
   "metadata": {},
   "outputs": [],
   "source": [
    "pagamento.head()"
   ]
  },
  {
   "cell_type": "markdown",
   "metadata": {},
   "source": [
    "#### 3.6 Retornando data de criação do arquivo"
   ]
  },
  {
   "cell_type": "markdown",
   "metadata": {},
   "source": [
    "O indicador de \"recência\" solicita verificações sobre a data de criação do arquivo e de sua última alteração.\n",
    "\n",
    "Para realizar isso, utilizamos o módulo \"os\" que nos permite acessar atributos dos arquivos presentes no sistema operacional.\n",
    "A função foi criada desenvolvida aceitando especificamente arquivos .xlsx, que é o formato das bases de dados recebidas.\n",
    "\n",
    "Abaixo temos o exemplo aplicado para o arquivo STG_PGT.xlsx"
   ]
  },
  {
   "cell_type": "code",
   "execution_count": null,
   "metadata": {},
   "outputs": [],
   "source": [
    "controller.analisa_arquivo('../dados/STG_PGT.xlsx')"
   ]
  },
  {
   "cell_type": "markdown",
   "metadata": {},
   "source": [
    "#### 3.7 Validando se os ID's de fontes são válidos, utilizando como referência a tabela de fontes."
   ]
  },
  {
   "cell_type": "markdown",
   "metadata": {},
   "source": [
    "Esta próxima função valida se nos ID's existentes nas tabelas batem com os ID's informados na tabela de fonte.\n",
    "\n",
    "A função \"valida_idfonte\" tem como argumento apenas o dataframe que deve ser analisado."
   ]
  },
  {
   "cell_type": "code",
   "execution_count": null,
   "metadata": {},
   "outputs": [],
   "source": [
    "controller.valida_idfonte(operacao)\n",
    "controller.valida_idfonte(movimento)\n",
    "controller.valida_idfonte(pagamento)"
   ]
  },
  {
   "cell_type": "markdown",
   "metadata": {},
   "source": [
    "# Indicadores de Negócio"
   ]
  },
  {
   "cell_type": "markdown",
   "metadata": {},
   "source": [
    "Os indicadores de negócio possuem métricas estabelecidas pelo cliente, conforme descrição abaixo:"
   ]
  },
  {
   "cell_type": "markdown",
   "metadata": {},
   "source": [
    "### Operação\n",
    "* Valor total contratado por remessa;\n",
    "* Quantidade de parcelas por remessa;\n",
    "* Volar total do saldo devedor por remessa;\n",
    "* Quantidade de operações por remessa.\n",
    "\n",
    "### Movimentação\n",
    "* Valor total utilizado por remessa;\n",
    "* Valor total fatura por remessa;\n",
    "* Valor total mínimo da fatura por remessa;\n",
    "* Valor total da parcela por remessa;\n",
    "* Quantidade de movimentações por remessa.\n",
    "\n",
    "### Pagamento\n",
    "* Valor total pagamento por remessa;\n",
    "* Quantidade de registros vencidos por remessa;\n",
    "* Quantidade de Pagamentos por remessa.\n"
   ]
  },
  {
   "cell_type": "markdown",
   "metadata": {},
   "source": [
    "As funções executadas abaixo estão disponíveis no arquivo 'controller.py', no mesmo diretório deste notebook."
   ]
  },
  {
   "cell_type": "markdown",
   "metadata": {},
   "source": [
    "#### 4.1 Operação - Valores extraídos"
   ]
  },
  {
   "cell_type": "markdown",
   "metadata": {},
   "source": [
    "Recapitulando, aqui temos o início da tabela Operação, para facilitar a compreensão das funcionalidades apresentadas:"
   ]
  },
  {
   "cell_type": "code",
   "execution_count": null,
   "metadata": {},
   "outputs": [],
   "source": [
    "operacao.head()"
   ]
  },
  {
   "cell_type": "markdown",
   "metadata": {},
   "source": [
    "#### 4.1.1 Operação - Valor total contratado"
   ]
  },
  {
   "cell_type": "markdown",
   "metadata": {},
   "source": [
    "A função \"negocio_operacao_vlrtotal\" não recebe nenhum argumento, mas retorna um valor numérico que é a somatória de todos os campos da coluna \"vlr_contrato\"."
   ]
  },
  {
   "cell_type": "code",
   "execution_count": null,
   "metadata": {},
   "outputs": [],
   "source": [
    "controller.negocio_operacao_vlrtotal()"
   ]
  },
  {
   "cell_type": "markdown",
   "metadata": {},
   "source": [
    "A conversão do valor float64 para um valor do mundo real será definida posteriormente, após obtenção desta informação com o cliente."
   ]
  },
  {
   "cell_type": "markdown",
   "metadata": {},
   "source": [
    "#### 4.1.2 Operação - Quantidade de parcelas"
   ]
  },
  {
   "cell_type": "markdown",
   "metadata": {},
   "source": [
    "Abaixo temos a função \"negocio_op_parcelas, que extrai todos os dados referentes às quantidades de parcelas na tabela Operação, e exibe um gráfico com a quantidade de parcelas para cada modalidade."
   ]
  },
  {
   "cell_type": "code",
   "execution_count": null,
   "metadata": {},
   "outputs": [],
   "source": [
    "controller.negocio_op_parcelas()"
   ]
  },
  {
   "cell_type": "markdown",
   "metadata": {},
   "source": [
    "Para obter os valores de forma numérica, criação uma subfunção da citada anteriormente, chamada \"negocio_parcelas_mod\"."
   ]
  },
  {
   "cell_type": "code",
   "execution_count": null,
   "metadata": {},
   "outputs": [],
   "source": [
    "controller.negocio_parcelas_mod(operacao)"
   ]
  },
  {
   "cell_type": "markdown",
   "metadata": {},
   "source": [
    "#### 4.1.3 Operação - Valor pendente total por remessa"
   ]
  },
  {
   "cell_type": "markdown",
   "metadata": {},
   "source": [
    "A função \"negocio_saldo_ddr\" foi criada para retornar a somatória de todos os valores pendentes na tabela de Operação. Não foi realizada uma distinção por modalidade, pois este parâmetro é válido apenas para a modalidade contábil (C01)."
   ]
  },
  {
   "cell_type": "code",
   "execution_count": null,
   "metadata": {},
   "outputs": [],
   "source": [
    "print(\"Valor do saldo total devedor da remessa:\", controller.negocio_saldo_ddr())"
   ]
  },
  {
   "cell_type": "markdown",
   "metadata": {},
   "source": [
    "#### 4.2 Movimentação - Valores extraídos"
   ]
  },
  {
   "cell_type": "markdown",
   "metadata": {},
   "source": [
    "Por conta da tabela \"movimentação\" ser um apanhado das operações e pagamentos, foi gerado o seguinte gráficos com os montantes solicitados pelo cliente."
   ]
  },
  {
   "cell_type": "code",
   "execution_count": null,
   "metadata": {},
   "outputs": [],
   "source": [
    "movimento.head()"
   ]
  },
  {
   "cell_type": "markdown",
   "metadata": {},
   "source": [
    "Aqui temos um gráfico de barras com os parâmetros para o indicador desta tabela"
   ]
  },
  {
   "cell_type": "code",
   "execution_count": null,
   "metadata": {},
   "outputs": [],
   "source": [
    "controller.plot_movimento()"
   ]
  },
  {
   "cell_type": "markdown",
   "metadata": {},
   "source": [
    "Para visualizar os valores, podemos utilizar a subfunção \"negocio_movimento\""
   ]
  },
  {
   "cell_type": "code",
   "execution_count": null,
   "metadata": {},
   "outputs": [],
   "source": [
    "for i in controller.negocio_movimento(movimento):\n",
    "    print(f'{i}:', controller.negocio_movimento(movimento)[i])"
   ]
  },
  {
   "cell_type": "markdown",
   "metadata": {},
   "source": [
    "#### 4.3 Pagamentos - Valores extraídos"
   ]
  },
  {
   "cell_type": "markdown",
   "metadata": {},
   "source": [
    "A função \"plot_pagamentos\" extrai os 3 itens solicitados pelo cliente e os expõem em um gráfico de barras."
   ]
  },
  {
   "cell_type": "code",
   "execution_count": null,
   "metadata": {},
   "outputs": [],
   "source": [
    "controller.plot_pagamentos()"
   ]
  },
  {
   "cell_type": "markdown",
   "metadata": {},
   "source": [
    "Porém, como os valores não estão na mesma unidade de grandeza, aqui temos o valor bruto dos parâmetros:"
   ]
  },
  {
   "cell_type": "code",
   "execution_count": null,
   "metadata": {},
   "outputs": [],
   "source": [
    "nomes = ['Valor total de pagamentos', 'Quantidade de registros vencidos', 'Quantidade de Pagamentos']\n",
    "valores = controller.negocio_pagamento(pagamento)\n",
    "for i in range(3):\n",
    "    print(f'{nomes[i]}: {valores[i]}')"
   ]
  }
 ],
 "metadata": {
  "kernelspec": {
   "display_name": "Python 3",
   "language": "python",
   "name": "python3"
  },
  "language_info": {
   "codemirror_mode": {
    "name": "ipython",
    "version": 3
   },
   "file_extension": ".py",
   "mimetype": "text/x-python",
   "name": "python",
   "nbconvert_exporter": "python",
   "pygments_lexer": "ipython3",
   "version": "3.7.5"
  }
 },
 "nbformat": 4,
 "nbformat_minor": 4
}
